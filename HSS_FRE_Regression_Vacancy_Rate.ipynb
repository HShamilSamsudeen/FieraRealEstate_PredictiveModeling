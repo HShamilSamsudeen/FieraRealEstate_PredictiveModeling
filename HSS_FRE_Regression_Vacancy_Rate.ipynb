{
 "metadata": {
  "language_info": {
   "codemirror_mode": {
    "name": "ipython",
    "version": 3
   },
   "file_extension": ".py",
   "mimetype": "text/x-python",
   "name": "python",
   "nbconvert_exporter": "python",
   "pygments_lexer": "ipython3",
   "version": "3.8.3"
  },
  "orig_nbformat": 2,
  "kernelspec": {
   "name": "python383jvsc74a57bd0cdbec5c7f27930493e79d3472e1a7082456386a4c1719c2b39f1e45feed6d983",
   "display_name": "Python 3.8.3 64-bit ('base': conda)"
  }
 },
 "nbformat": 4,
 "nbformat_minor": 2,
 "cells": [
  {
   "cell_type": "code",
   "execution_count": 105,
   "metadata": {},
   "outputs": [
    {
     "output_type": "stream",
     "name": "stdout",
     "text": [
      "Requirement already satisfied: dmba in c:\\users\\shamil\\appdata\\local\\anaconda2\\lib\\site-packages (0.0.18)\n"
     ]
    }
   ],
   "source": [
    "!pip install dmba"
   ]
  },
  {
   "cell_type": "code",
   "execution_count": 106,
   "metadata": {},
   "outputs": [],
   "source": [
    "%matplotlib inline\n",
    "\n",
    "import pandas as pd\n",
    "import numpy as np\n",
    "import seaborn as sns\n",
    "import pingouin as pg\n",
    "import matplotlib.pyplot as plt\n",
    "\n",
    "from sklearn.model_selection import train_test_split\n",
    "from sklearn.linear_model import LinearRegression\n",
    "from sklearn.preprocessing import StandardScaler\n",
    "from sklearn.metrics import r2_score\n",
    "\n",
    "from dmba import regressionSummary, exhaustive_search\n",
    "from dmba import backward_elimination, forward_selection, stepwise_selection\n",
    "from dmba import adjusted_r2_score, AIC_score, BIC_score"
   ]
  },
  {
   "cell_type": "code",
   "execution_count": 107,
   "metadata": {},
   "outputs": [],
   "source": [
    "toronto_df = pd.read_csv(\"./Regression_Data_Toronto.csv\")"
   ]
  },
  {
   "cell_type": "code",
   "execution_count": 108,
   "metadata": {},
   "outputs": [
    {
     "output_type": "execute_result",
     "data": {
      "text/plain": [
       "Date                                          object\n",
       "City                                          object\n",
       "Region                                        object\n",
       "Inventory                                      int64\n",
       "Total Available                                int64\n",
       "Availability Rate                            float64\n",
       "Occupied                                       int64\n",
       "Total Vacant                                   int64\n",
       "Vacancy Rate                                 float64\n",
       "Absorption                                     int64\n",
       "Absorption YTD                                 int64\n",
       "New Supply                                     int64\n",
       "New Supply YTD                                 int64\n",
       "Under Construction                             int64\n",
       "Average Net Asking Lease Rate ($/sq. ft.)    float64\n",
       "TMI ($/sq. ft.)                              float64\n",
       "Gross Rental Rate PSF ($/sq. ft.)            float64\n",
       "Average Asking Sale Price ($/sq. ft.)        float64\n",
       "Average Land Costs $/Acre                      int64\n",
       "Employment Rate (%)                          float64\n",
       "Population (thusands)                        float64\n",
       "Unemployment rate (%)                        float64\n",
       "GDP Value (Million CAD)                        int64\n",
       "Inflation Value (2002 = 100)                 float64\n",
       "dtype: object"
      ]
     },
     "metadata": {},
     "execution_count": 108
    }
   ],
   "source": [
    "toronto_df.dtypes"
   ]
  },
  {
   "cell_type": "code",
   "execution_count": 109,
   "metadata": {},
   "outputs": [
    {
     "output_type": "stream",
     "name": "stdout",
     "text": [
      "<class 'pandas.core.frame.DataFrame'>\nRangeIndex: 76 entries, 0 to 75\nData columns (total 24 columns):\n #   Column                                     Non-Null Count  Dtype  \n---  ------                                     --------------  -----  \n 0   Date                                       76 non-null     object \n 1   City                                       76 non-null     object \n 2   Region                                     76 non-null     object \n 3   Inventory                                  76 non-null     int64  \n 4   Total Available                            76 non-null     int64  \n 5   Availability Rate                          76 non-null     float64\n 6   Occupied                                   76 non-null     int64  \n 7   Total Vacant                               76 non-null     int64  \n 8   Vacancy Rate                               76 non-null     float64\n 9   Absorption                                 76 non-null     int64  \n 10  Absorption YTD                             76 non-null     int64  \n 11  New Supply                                 76 non-null     int64  \n 12  New Supply YTD                             76 non-null     int64  \n 13  Under Construction                         76 non-null     int64  \n 14  Average Net Asking Lease Rate ($/sq. ft.)  76 non-null     float64\n 15  TMI ($/sq. ft.)                            76 non-null     float64\n 16  Gross Rental Rate PSF ($/sq. ft.)          76 non-null     float64\n 17  Average Asking Sale Price ($/sq. ft.)      76 non-null     float64\n 18  Average Land Costs $/Acre                  76 non-null     int64  \n 19  Employment Rate (%)                        76 non-null     float64\n 20  Population (thusands)                      76 non-null     float64\n 21  Unemployment rate (%)                      76 non-null     float64\n 22  GDP Value (Million CAD)                    76 non-null     int64  \n 23  Inflation Value (2002 = 100)               76 non-null     float64\ndtypes: float64(10), int64(11), object(3)\nmemory usage: 14.4+ KB\n"
     ]
    }
   ],
   "source": [
    "toronto_df.info()"
   ]
  },
  {
   "cell_type": "code",
   "execution_count": 110,
   "metadata": {},
   "outputs": [],
   "source": [
    "toronto_df['GDP Value (Million CAD)'] = pd.Series(pd.to_numeric(toronto_df['GDP Value (Million CAD)'], errors = 'coerce')).interpolate(method = 'linear', limit_area = 'outside', limit_direction = 'both')"
   ]
  },
  {
   "cell_type": "code",
   "execution_count": 111,
   "metadata": {},
   "outputs": [
    {
     "output_type": "execute_result",
     "data": {
      "text/plain": [
       "      Date     City   Region  Inventory  Total Available  Availability Rate  \\\n",
       "0  2002_Q1  Toronto  Toronto   20775085           213253              0.010   \n",
       "1  2002_Q2  Toronto  Toronto   20775085           239549              0.012   \n",
       "2  2002_Q3  Toronto  Toronto   20775085           660337              0.032   \n",
       "3  2002_Q4  Toronto  Toronto   20775085           483415              0.023   \n",
       "4  2003_Q1  Toronto  Toronto   20775085           540956              0.026   \n",
       "\n",
       "   Occupied  Total Vacant  Vacancy Rate  Absorption  ...  \\\n",
       "0  20561832        107486         0.005      -29767  ...   \n",
       "1  20535536        106914         0.005      -26296  ...   \n",
       "2  20114748        492726         0.024     -420788  ...   \n",
       "3  20291670        134960         0.006      176922  ...   \n",
       "4  20234129        180970         0.009      -57541  ...   \n",
       "\n",
       "   Average Net Asking Lease Rate ($/sq. ft.)  TMI ($/sq. ft.)  \\\n",
       "0                                       4.53             3.01   \n",
       "1                                       5.03             3.75   \n",
       "2                                       6.70             3.75   \n",
       "3                                       7.13             3.75   \n",
       "4                                       6.75             3.75   \n",
       "\n",
       "   Gross Rental Rate PSF ($/sq. ft.)  Average Asking Sale Price ($/sq. ft.)  \\\n",
       "0                               7.54                                  68.53   \n",
       "1                               8.78                                  66.05   \n",
       "2                              10.45                                  64.20   \n",
       "3                              10.88                                  68.00   \n",
       "4                              10.50                                  71.28   \n",
       "\n",
       "   Average Land Costs $/Acre  Employment Rate (%)  Population (thusands)  \\\n",
       "0                     325000                 65.0                 3962.3   \n",
       "1                     325000                 64.1                 3990.7   \n",
       "2                     325000                 64.4                 4015.4   \n",
       "3                     325000                 65.0                 4032.4   \n",
       "4                     325000                 65.4                 4048.8   \n",
       "\n",
       "   Unemployment rate (%)  GDP Value (Million CAD)  \\\n",
       "0                    7.2                   325000   \n",
       "1                    7.4                   325000   \n",
       "2                    7.7                   325000   \n",
       "3                    7.4                   325000   \n",
       "4                    7.3                   325000   \n",
       "\n",
       "   Inflation Value (2002 = 100)  \n",
       "0                          99.6  \n",
       "1                         100.0  \n",
       "2                         100.4  \n",
       "3                         101.3  \n",
       "4                         103.1  \n",
       "\n",
       "[5 rows x 24 columns]"
      ],
      "text/html": "<div>\n<style scoped>\n    .dataframe tbody tr th:only-of-type {\n        vertical-align: middle;\n    }\n\n    .dataframe tbody tr th {\n        vertical-align: top;\n    }\n\n    .dataframe thead th {\n        text-align: right;\n    }\n</style>\n<table border=\"1\" class=\"dataframe\">\n  <thead>\n    <tr style=\"text-align: right;\">\n      <th></th>\n      <th>Date</th>\n      <th>City</th>\n      <th>Region</th>\n      <th>Inventory</th>\n      <th>Total Available</th>\n      <th>Availability Rate</th>\n      <th>Occupied</th>\n      <th>Total Vacant</th>\n      <th>Vacancy Rate</th>\n      <th>Absorption</th>\n      <th>...</th>\n      <th>Average Net Asking Lease Rate ($/sq. ft.)</th>\n      <th>TMI ($/sq. ft.)</th>\n      <th>Gross Rental Rate PSF ($/sq. ft.)</th>\n      <th>Average Asking Sale Price ($/sq. ft.)</th>\n      <th>Average Land Costs $/Acre</th>\n      <th>Employment Rate (%)</th>\n      <th>Population (thusands)</th>\n      <th>Unemployment rate (%)</th>\n      <th>GDP Value (Million CAD)</th>\n      <th>Inflation Value (2002 = 100)</th>\n    </tr>\n  </thead>\n  <tbody>\n    <tr>\n      <th>0</th>\n      <td>2002_Q1</td>\n      <td>Toronto</td>\n      <td>Toronto</td>\n      <td>20775085</td>\n      <td>213253</td>\n      <td>0.010</td>\n      <td>20561832</td>\n      <td>107486</td>\n      <td>0.005</td>\n      <td>-29767</td>\n      <td>...</td>\n      <td>4.53</td>\n      <td>3.01</td>\n      <td>7.54</td>\n      <td>68.53</td>\n      <td>325000</td>\n      <td>65.0</td>\n      <td>3962.3</td>\n      <td>7.2</td>\n      <td>325000</td>\n      <td>99.6</td>\n    </tr>\n    <tr>\n      <th>1</th>\n      <td>2002_Q2</td>\n      <td>Toronto</td>\n      <td>Toronto</td>\n      <td>20775085</td>\n      <td>239549</td>\n      <td>0.012</td>\n      <td>20535536</td>\n      <td>106914</td>\n      <td>0.005</td>\n      <td>-26296</td>\n      <td>...</td>\n      <td>5.03</td>\n      <td>3.75</td>\n      <td>8.78</td>\n      <td>66.05</td>\n      <td>325000</td>\n      <td>64.1</td>\n      <td>3990.7</td>\n      <td>7.4</td>\n      <td>325000</td>\n      <td>100.0</td>\n    </tr>\n    <tr>\n      <th>2</th>\n      <td>2002_Q3</td>\n      <td>Toronto</td>\n      <td>Toronto</td>\n      <td>20775085</td>\n      <td>660337</td>\n      <td>0.032</td>\n      <td>20114748</td>\n      <td>492726</td>\n      <td>0.024</td>\n      <td>-420788</td>\n      <td>...</td>\n      <td>6.70</td>\n      <td>3.75</td>\n      <td>10.45</td>\n      <td>64.20</td>\n      <td>325000</td>\n      <td>64.4</td>\n      <td>4015.4</td>\n      <td>7.7</td>\n      <td>325000</td>\n      <td>100.4</td>\n    </tr>\n    <tr>\n      <th>3</th>\n      <td>2002_Q4</td>\n      <td>Toronto</td>\n      <td>Toronto</td>\n      <td>20775085</td>\n      <td>483415</td>\n      <td>0.023</td>\n      <td>20291670</td>\n      <td>134960</td>\n      <td>0.006</td>\n      <td>176922</td>\n      <td>...</td>\n      <td>7.13</td>\n      <td>3.75</td>\n      <td>10.88</td>\n      <td>68.00</td>\n      <td>325000</td>\n      <td>65.0</td>\n      <td>4032.4</td>\n      <td>7.4</td>\n      <td>325000</td>\n      <td>101.3</td>\n    </tr>\n    <tr>\n      <th>4</th>\n      <td>2003_Q1</td>\n      <td>Toronto</td>\n      <td>Toronto</td>\n      <td>20775085</td>\n      <td>540956</td>\n      <td>0.026</td>\n      <td>20234129</td>\n      <td>180970</td>\n      <td>0.009</td>\n      <td>-57541</td>\n      <td>...</td>\n      <td>6.75</td>\n      <td>3.75</td>\n      <td>10.50</td>\n      <td>71.28</td>\n      <td>325000</td>\n      <td>65.4</td>\n      <td>4048.8</td>\n      <td>7.3</td>\n      <td>325000</td>\n      <td>103.1</td>\n    </tr>\n  </tbody>\n</table>\n<p>5 rows × 24 columns</p>\n</div>"
     },
     "metadata": {},
     "execution_count": 111
    }
   ],
   "source": [
    "toronto_df.head()"
   ]
  },
  {
   "cell_type": "code",
   "execution_count": 112,
   "metadata": {},
   "outputs": [
    {
     "output_type": "execute_result",
     "data": {
      "text/plain": [
       "Date                                         0\n",
       "City                                         0\n",
       "Region                                       0\n",
       "Inventory                                    0\n",
       "Total Available                              0\n",
       "Availability Rate                            0\n",
       "Occupied                                     0\n",
       "Total Vacant                                 0\n",
       "Vacancy Rate                                 0\n",
       "Absorption                                   0\n",
       "Absorption YTD                               0\n",
       "New Supply                                   0\n",
       "New Supply YTD                               0\n",
       "Under Construction                           0\n",
       "Average Net Asking Lease Rate ($/sq. ft.)    0\n",
       "TMI ($/sq. ft.)                              0\n",
       "Gross Rental Rate PSF ($/sq. ft.)            0\n",
       "Average Asking Sale Price ($/sq. ft.)        0\n",
       "Average Land Costs $/Acre                    0\n",
       "Employment Rate (%)                          0\n",
       "Population (thusands)                        0\n",
       "Unemployment rate (%)                        0\n",
       "GDP Value (Million CAD)                      0\n",
       "Inflation Value (2002 = 100)                 0\n",
       "dtype: int64"
      ]
     },
     "metadata": {},
     "execution_count": 112
    }
   ],
   "source": [
    "toronto_df.isnull().sum()"
   ]
  },
  {
   "cell_type": "code",
   "execution_count": 113,
   "metadata": {},
   "outputs": [
    {
     "output_type": "execute_result",
     "data": {
      "text/plain": [
       "Index(['Date', 'City', 'Region', 'Inventory', 'Total Available',\n",
       "       'Availability Rate', 'Occupied', 'Total Vacant', 'Vacancy Rate',\n",
       "       'Absorption', 'Absorption YTD', 'New Supply', 'New Supply YTD',\n",
       "       'Under Construction', 'Average Net Asking Lease Rate ($/sq. ft.)',\n",
       "       'TMI ($/sq. ft.)', 'Gross Rental Rate PSF ($/sq. ft.)',\n",
       "       'Average Asking Sale Price ($/sq. ft.)', 'Average Land Costs $/Acre',\n",
       "       'Employment Rate (%)', 'Population (thusands)', 'Unemployment rate (%)',\n",
       "       'GDP Value (Million CAD)', 'Inflation Value (2002 = 100)'],\n",
       "      dtype='object')"
      ]
     },
     "metadata": {},
     "execution_count": 113
    }
   ],
   "source": [
    "toronto_df.columns"
   ]
  },
  {
   "cell_type": "code",
   "execution_count": 114,
   "metadata": {},
   "outputs": [],
   "source": [
    "predictors = ['Inventory', 'Total Available', 'Availability Rate', 'Absorption', 'Absorption YTD', 'New Supply', 'New Supply YTD', 'Under Construction', 'Average Net Asking Lease Rate ($/sq. ft.)', 'TMI ($/sq. ft.)', 'Gross Rental Rate PSF ($/sq. ft.)', 'Average Asking Sale Price ($/sq. ft.)', 'Average Land Costs $/Acre', 'Employment Rate (%)', 'Population (thusands)', 'Unemployment rate (%)', 'GDP Value (Million CAD)', 'Inflation Value (2002 = 100)']\n",
    "\n",
    "outcome = 'Vacancy Rate'"
   ]
  },
  {
   "cell_type": "code",
   "execution_count": 115,
   "metadata": {},
   "outputs": [],
   "source": [
    "x = toronto_df[predictors]\n",
    "y = toronto_df[outcome]"
   ]
  },
  {
   "cell_type": "code",
   "execution_count": 116,
   "metadata": {},
   "outputs": [],
   "source": [
    "sc = StandardScaler()\n",
    "X[predictors] = sc.fit_transform(X[predictors])"
   ]
  },
  {
   "cell_type": "code",
   "execution_count": 117,
   "metadata": {},
   "outputs": [],
   "source": [
    "X_train, X_valid, y_train, y_valid = train_test_split(x, y, test_size = 0.2, random_state = 1)"
   ]
  },
  {
   "cell_type": "code",
   "execution_count": 118,
   "metadata": {},
   "outputs": [
    {
     "output_type": "execute_result",
     "data": {
      "text/plain": [
       "LinearRegression()"
      ]
     },
     "metadata": {},
     "execution_count": 118
    }
   ],
   "source": [
    "#fit regression model\n",
    "lm = LinearRegression()\n",
    "lm.fit(X_train, y_train)"
   ]
  },
  {
   "cell_type": "code",
   "execution_count": 119,
   "metadata": {},
   "outputs": [
    {
     "output_type": "stream",
     "name": "stdout",
     "text": [
      "intercept  -0.0072981504965428734\n                                    Predictor   coefficient\n0                                   Inventory  1.509831e-10\n1                             Total Available  6.081974e-08\n2                           Availability Rate -9.271062e-01\n3                                  Absorption -1.434092e-09\n4                              Absorption YTD  2.004061e-09\n5                                  New Supply -9.700866e-09\n6                              New Supply YTD -7.629743e-09\n7                          Under Construction  6.556588e-12\n8   Average Net Asking Lease Rate ($/sq. ft.)  4.277988e-04\n9                             TMI ($/sq. ft.) -9.042322e-04\n10          Gross Rental Rate PSF ($/sq. ft.) -4.764334e-04\n11      Average Asking Sale Price ($/sq. ft.) -1.840534e-05\n12                  Average Land Costs $/Acre  4.743801e-09\n13                        Employment Rate (%)  1.066269e-04\n14                      Population (thusands) -2.762714e-05\n15                      Unemployment rate (%) -2.871797e-05\n16                    GDP Value (Million CAD)  2.002166e-09\n17               Inflation Value (2002 = 100)  1.113228e-03\n"
     ]
    }
   ],
   "source": [
    "# print coefficients\n",
    "print('intercept ', lm.intercept_)\n",
    "print(pd.DataFrame({'Predictor': X.columns, 'coefficient': lm.coef_}))"
   ]
  },
  {
   "cell_type": "code",
   "execution_count": 120,
   "metadata": {},
   "outputs": [
    {
     "output_type": "stream",
     "name": "stdout",
     "text": [
      "\nRegression statistics\n\n               Mean Error (ME) : -0.0000\nRoot Mean Squared Error (RMSE) : 0.0021\n     Mean Absolute Error (MAE) : 0.0017\n"
     ]
    }
   ],
   "source": [
    "# Performance Measures for Training Set\n",
    "regressionSummary(y_train, lm.predict(X_train))"
   ]
  },
  {
   "cell_type": "code",
   "execution_count": 121,
   "metadata": {},
   "outputs": [
    {
     "output_type": "stream",
     "name": "stdout",
     "text": [
      "\nRegression statistics\n\n               Mean Error (ME) : 0.0007\nRoot Mean Squared Error (RMSE) : 0.0049\n     Mean Absolute Error (MAE) : 0.0034\n"
     ]
    }
   ],
   "source": [
    "# Performance Measures for Validation Set\n",
    "regressionSummary(y_valid, lm.predict(X_valid))"
   ]
  },
  {
   "cell_type": "code",
   "execution_count": 122,
   "metadata": {},
   "outputs": [
    {
     "output_type": "display_data",
     "data": {
      "text/plain": "<Figure size 432x288 with 1 Axes>",
      "image/svg+xml": "<?xml version=\"1.0\" encoding=\"utf-8\" standalone=\"no\"?>\r\n<!DOCTYPE svg PUBLIC \"-//W3C//DTD SVG 1.1//EN\"\r\n  \"http://www.w3.org/Graphics/SVG/1.1/DTD/svg11.dtd\">\r\n<!-- Created with matplotlib (https://matplotlib.org/) -->\r\n<svg height=\"279.59625pt\" version=\"1.1\" viewBox=\"0 0 424.7875 279.59625\" width=\"424.7875pt\" xmlns=\"http://www.w3.org/2000/svg\" xmlns:xlink=\"http://www.w3.org/1999/xlink\">\r\n <defs>\r\n  <style type=\"text/css\">\r\n*{stroke-linecap:butt;stroke-linejoin:round;}\r\n  </style>\r\n </defs>\r\n <g id=\"figure_1\">\r\n  <g id=\"patch_1\">\r\n   <path d=\"M 0 279.59625 \r\nL 424.7875 279.59625 \r\nL 424.7875 0 \r\nL 0 0 \r\nz\r\n\" style=\"fill:none;\"/>\r\n  </g>\r\n  <g id=\"axes_1\">\r\n   <g id=\"patch_2\">\r\n    <path d=\"M 20.5625 255.718125 \r\nL 417.5875 255.718125 \r\nL 417.5875 22.318125 \r\nL 20.5625 22.318125 \r\nz\r\n\" style=\"fill:#ffffff;\"/>\r\n   </g>\r\n   <g id=\"patch_3\">\r\n    <path clip-path=\"url(#pe0880ab65c)\" d=\"M 38.609091 255.718125 \r\nL 74.702273 255.718125 \r\nL 74.702273 192.207921 \r\nL 38.609091 192.207921 \r\nz\r\n\" style=\"fill:#1f77b4;\"/>\r\n   </g>\r\n   <g id=\"patch_4\">\r\n    <path clip-path=\"url(#pe0880ab65c)\" d=\"M 74.702273 255.718125 \r\nL 110.795455 255.718125 \r\nL 110.795455 223.963023 \r\nL 74.702273 223.963023 \r\nz\r\n\" style=\"fill:#1f77b4;\"/>\r\n   </g>\r\n   <g id=\"patch_5\">\r\n    <path clip-path=\"url(#pe0880ab65c)\" d=\"M 110.795455 255.718125 \r\nL 146.888636 255.718125 \r\nL 146.888636 192.207921 \r\nL 110.795455 192.207921 \r\nz\r\n\" style=\"fill:#1f77b4;\"/>\r\n   </g>\r\n   <g id=\"patch_6\">\r\n    <path clip-path=\"url(#pe0880ab65c)\" d=\"M 146.888636 255.718125 \r\nL 182.981818 255.718125 \r\nL 182.981818 192.207921 \r\nL 146.888636 192.207921 \r\nz\r\n\" style=\"fill:#1f77b4;\"/>\r\n   </g>\r\n   <g id=\"patch_7\">\r\n    <path clip-path=\"url(#pe0880ab65c)\" d=\"M 182.981818 255.718125 \r\nL 219.075 255.718125 \r\nL 219.075 33.432411 \r\nL 182.981818 33.432411 \r\nz\r\n\" style=\"fill:#1f77b4;\"/>\r\n   </g>\r\n   <g id=\"patch_8\">\r\n    <path clip-path=\"url(#pe0880ab65c)\" d=\"M 219.075 255.718125 \r\nL 255.168182 255.718125 \r\nL 255.168182 223.963023 \r\nL 219.075 223.963023 \r\nz\r\n\" style=\"fill:#1f77b4;\"/>\r\n   </g>\r\n   <g id=\"patch_9\">\r\n    <path clip-path=\"url(#pe0880ab65c)\" d=\"M 255.168182 255.718125 \r\nL 291.261364 255.718125 \r\nL 291.261364 255.718125 \r\nL 255.168182 255.718125 \r\nz\r\n\" style=\"fill:#1f77b4;\"/>\r\n   </g>\r\n   <g id=\"patch_10\">\r\n    <path clip-path=\"url(#pe0880ab65c)\" d=\"M 291.261364 255.718125 \r\nL 327.354545 255.718125 \r\nL 327.354545 255.718125 \r\nL 291.261364 255.718125 \r\nz\r\n\" style=\"fill:#1f77b4;\"/>\r\n   </g>\r\n   <g id=\"patch_11\">\r\n    <path clip-path=\"url(#pe0880ab65c)\" d=\"M 327.354545 255.718125 \r\nL 363.447727 255.718125 \r\nL 363.447727 255.718125 \r\nL 327.354545 255.718125 \r\nz\r\n\" style=\"fill:#1f77b4;\"/>\r\n   </g>\r\n   <g id=\"patch_12\">\r\n    <path clip-path=\"url(#pe0880ab65c)\" d=\"M 363.447727 255.718125 \r\nL 399.540909 255.718125 \r\nL 399.540909 223.963023 \r\nL 363.447727 223.963023 \r\nz\r\n\" style=\"fill:#1f77b4;\"/>\r\n   </g>\r\n   <g id=\"matplotlib.axis_1\">\r\n    <g id=\"xtick_1\">\r\n     <g id=\"line2d_1\">\r\n      <path clip-path=\"url(#pe0880ab65c)\" d=\"M 84.061161 255.718125 \r\nL 84.061161 22.318125 \r\n\" style=\"fill:none;stroke:#b0b0b0;stroke-linecap:square;stroke-width:0.8;\"/>\r\n     </g>\r\n     <g id=\"line2d_2\">\r\n      <defs>\r\n       <path d=\"M 0 0 \r\nL 0 3.5 \r\n\" id=\"m939cbd4bed\" style=\"stroke:#000000;stroke-width:0.8;\"/>\r\n      </defs>\r\n      <g>\r\n       <use style=\"stroke:#000000;stroke-width:0.8;\" x=\"84.061161\" xlink:href=\"#m939cbd4bed\" y=\"255.718125\"/>\r\n      </g>\r\n     </g>\r\n     <g id=\"text_1\">\r\n      <!-- −0.005 -->\r\n      <defs>\r\n       <path d=\"M 10.59375 35.5 \r\nL 73.1875 35.5 \r\nL 73.1875 27.203125 \r\nL 10.59375 27.203125 \r\nz\r\n\" id=\"DejaVuSans-8722\"/>\r\n       <path d=\"M 31.78125 66.40625 \r\nQ 24.171875 66.40625 20.328125 58.90625 \r\nQ 16.5 51.421875 16.5 36.375 \r\nQ 16.5 21.390625 20.328125 13.890625 \r\nQ 24.171875 6.390625 31.78125 6.390625 \r\nQ 39.453125 6.390625 43.28125 13.890625 \r\nQ 47.125 21.390625 47.125 36.375 \r\nQ 47.125 51.421875 43.28125 58.90625 \r\nQ 39.453125 66.40625 31.78125 66.40625 \r\nz\r\nM 31.78125 74.21875 \r\nQ 44.046875 74.21875 50.515625 64.515625 \r\nQ 56.984375 54.828125 56.984375 36.375 \r\nQ 56.984375 17.96875 50.515625 8.265625 \r\nQ 44.046875 -1.421875 31.78125 -1.421875 \r\nQ 19.53125 -1.421875 13.0625 8.265625 \r\nQ 6.59375 17.96875 6.59375 36.375 \r\nQ 6.59375 54.828125 13.0625 64.515625 \r\nQ 19.53125 74.21875 31.78125 74.21875 \r\nz\r\n\" id=\"DejaVuSans-48\"/>\r\n       <path d=\"M 10.6875 12.40625 \r\nL 21 12.40625 \r\nL 21 0 \r\nL 10.6875 0 \r\nz\r\n\" id=\"DejaVuSans-46\"/>\r\n       <path d=\"M 10.796875 72.90625 \r\nL 49.515625 72.90625 \r\nL 49.515625 64.59375 \r\nL 19.828125 64.59375 \r\nL 19.828125 46.734375 \r\nQ 21.96875 47.46875 24.109375 47.828125 \r\nQ 26.265625 48.1875 28.421875 48.1875 \r\nQ 40.625 48.1875 47.75 41.5 \r\nQ 54.890625 34.8125 54.890625 23.390625 \r\nQ 54.890625 11.625 47.5625 5.09375 \r\nQ 40.234375 -1.421875 26.90625 -1.421875 \r\nQ 22.3125 -1.421875 17.546875 -0.640625 \r\nQ 12.796875 0.140625 7.71875 1.703125 \r\nL 7.71875 11.625 \r\nQ 12.109375 9.234375 16.796875 8.0625 \r\nQ 21.484375 6.890625 26.703125 6.890625 \r\nQ 35.15625 6.890625 40.078125 11.328125 \r\nQ 45.015625 15.765625 45.015625 23.390625 \r\nQ 45.015625 31 40.078125 35.4375 \r\nQ 35.15625 39.890625 26.703125 39.890625 \r\nQ 22.75 39.890625 18.8125 39.015625 \r\nQ 14.890625 38.140625 10.796875 36.28125 \r\nz\r\n\" id=\"DejaVuSans-53\"/>\r\n      </defs>\r\n      <g transform=\"translate(65.557255 270.316563)scale(0.1 -0.1)\">\r\n       <use xlink:href=\"#DejaVuSans-8722\"/>\r\n       <use x=\"83.789062\" xlink:href=\"#DejaVuSans-48\"/>\r\n       <use x=\"147.412109\" xlink:href=\"#DejaVuSans-46\"/>\r\n       <use x=\"179.199219\" xlink:href=\"#DejaVuSans-48\"/>\r\n       <use x=\"242.822266\" xlink:href=\"#DejaVuSans-48\"/>\r\n       <use x=\"306.445312\" xlink:href=\"#DejaVuSans-53\"/>\r\n      </g>\r\n     </g>\r\n    </g>\r\n    <g id=\"xtick_2\">\r\n     <g id=\"line2d_3\">\r\n      <path clip-path=\"url(#pe0880ab65c)\" d=\"M 162.803586 255.718125 \r\nL 162.803586 22.318125 \r\n\" style=\"fill:none;stroke:#b0b0b0;stroke-linecap:square;stroke-width:0.8;\"/>\r\n     </g>\r\n     <g id=\"line2d_4\">\r\n      <g>\r\n       <use style=\"stroke:#000000;stroke-width:0.8;\" x=\"162.803586\" xlink:href=\"#m939cbd4bed\" y=\"255.718125\"/>\r\n      </g>\r\n     </g>\r\n     <g id=\"text_2\">\r\n      <!-- 0.000 -->\r\n      <g transform=\"translate(148.489524 270.316563)scale(0.1 -0.1)\">\r\n       <use xlink:href=\"#DejaVuSans-48\"/>\r\n       <use x=\"63.623047\" xlink:href=\"#DejaVuSans-46\"/>\r\n       <use x=\"95.410156\" xlink:href=\"#DejaVuSans-48\"/>\r\n       <use x=\"159.033203\" xlink:href=\"#DejaVuSans-48\"/>\r\n       <use x=\"222.65625\" xlink:href=\"#DejaVuSans-48\"/>\r\n      </g>\r\n     </g>\r\n    </g>\r\n    <g id=\"xtick_3\">\r\n     <g id=\"line2d_5\">\r\n      <path clip-path=\"url(#pe0880ab65c)\" d=\"M 241.546011 255.718125 \r\nL 241.546011 22.318125 \r\n\" style=\"fill:none;stroke:#b0b0b0;stroke-linecap:square;stroke-width:0.8;\"/>\r\n     </g>\r\n     <g id=\"line2d_6\">\r\n      <g>\r\n       <use style=\"stroke:#000000;stroke-width:0.8;\" x=\"241.546011\" xlink:href=\"#m939cbd4bed\" y=\"255.718125\"/>\r\n      </g>\r\n     </g>\r\n     <g id=\"text_3\">\r\n      <!-- 0.005 -->\r\n      <g transform=\"translate(227.231948 270.316563)scale(0.1 -0.1)\">\r\n       <use xlink:href=\"#DejaVuSans-48\"/>\r\n       <use x=\"63.623047\" xlink:href=\"#DejaVuSans-46\"/>\r\n       <use x=\"95.410156\" xlink:href=\"#DejaVuSans-48\"/>\r\n       <use x=\"159.033203\" xlink:href=\"#DejaVuSans-48\"/>\r\n       <use x=\"222.65625\" xlink:href=\"#DejaVuSans-53\"/>\r\n      </g>\r\n     </g>\r\n    </g>\r\n    <g id=\"xtick_4\">\r\n     <g id=\"line2d_7\">\r\n      <path clip-path=\"url(#pe0880ab65c)\" d=\"M 320.288436 255.718125 \r\nL 320.288436 22.318125 \r\n\" style=\"fill:none;stroke:#b0b0b0;stroke-linecap:square;stroke-width:0.8;\"/>\r\n     </g>\r\n     <g id=\"line2d_8\">\r\n      <g>\r\n       <use style=\"stroke:#000000;stroke-width:0.8;\" x=\"320.288436\" xlink:href=\"#m939cbd4bed\" y=\"255.718125\"/>\r\n      </g>\r\n     </g>\r\n     <g id=\"text_4\">\r\n      <!-- 0.010 -->\r\n      <defs>\r\n       <path d=\"M 12.40625 8.296875 \r\nL 28.515625 8.296875 \r\nL 28.515625 63.921875 \r\nL 10.984375 60.40625 \r\nL 10.984375 69.390625 \r\nL 28.421875 72.90625 \r\nL 38.28125 72.90625 \r\nL 38.28125 8.296875 \r\nL 54.390625 8.296875 \r\nL 54.390625 0 \r\nL 12.40625 0 \r\nz\r\n\" id=\"DejaVuSans-49\"/>\r\n      </defs>\r\n      <g transform=\"translate(305.974373 270.316563)scale(0.1 -0.1)\">\r\n       <use xlink:href=\"#DejaVuSans-48\"/>\r\n       <use x=\"63.623047\" xlink:href=\"#DejaVuSans-46\"/>\r\n       <use x=\"95.410156\" xlink:href=\"#DejaVuSans-48\"/>\r\n       <use x=\"159.033203\" xlink:href=\"#DejaVuSans-49\"/>\r\n       <use x=\"222.65625\" xlink:href=\"#DejaVuSans-48\"/>\r\n      </g>\r\n     </g>\r\n    </g>\r\n    <g id=\"xtick_5\">\r\n     <g id=\"line2d_9\">\r\n      <path clip-path=\"url(#pe0880ab65c)\" d=\"M 399.030861 255.718125 \r\nL 399.030861 22.318125 \r\n\" style=\"fill:none;stroke:#b0b0b0;stroke-linecap:square;stroke-width:0.8;\"/>\r\n     </g>\r\n     <g id=\"line2d_10\">\r\n      <g>\r\n       <use style=\"stroke:#000000;stroke-width:0.8;\" x=\"399.030861\" xlink:href=\"#m939cbd4bed\" y=\"255.718125\"/>\r\n      </g>\r\n     </g>\r\n     <g id=\"text_5\">\r\n      <!-- 0.015 -->\r\n      <g transform=\"translate(384.716798 270.316563)scale(0.1 -0.1)\">\r\n       <use xlink:href=\"#DejaVuSans-48\"/>\r\n       <use x=\"63.623047\" xlink:href=\"#DejaVuSans-46\"/>\r\n       <use x=\"95.410156\" xlink:href=\"#DejaVuSans-48\"/>\r\n       <use x=\"159.033203\" xlink:href=\"#DejaVuSans-49\"/>\r\n       <use x=\"222.65625\" xlink:href=\"#DejaVuSans-53\"/>\r\n      </g>\r\n     </g>\r\n    </g>\r\n   </g>\r\n   <g id=\"matplotlib.axis_2\">\r\n    <g id=\"ytick_1\">\r\n     <g id=\"line2d_11\">\r\n      <path clip-path=\"url(#pe0880ab65c)\" d=\"M 20.5625 255.718125 \r\nL 417.5875 255.718125 \r\n\" style=\"fill:none;stroke:#b0b0b0;stroke-linecap:square;stroke-width:0.8;\"/>\r\n     </g>\r\n     <g id=\"line2d_12\">\r\n      <defs>\r\n       <path d=\"M 0 0 \r\nL -3.5 0 \r\n\" id=\"mee978f3f51\" style=\"stroke:#000000;stroke-width:0.8;\"/>\r\n      </defs>\r\n      <g>\r\n       <use style=\"stroke:#000000;stroke-width:0.8;\" x=\"20.5625\" xlink:href=\"#mee978f3f51\" y=\"255.718125\"/>\r\n      </g>\r\n     </g>\r\n     <g id=\"text_6\">\r\n      <!-- 0 -->\r\n      <g transform=\"translate(7.2 259.517344)scale(0.1 -0.1)\">\r\n       <use xlink:href=\"#DejaVuSans-48\"/>\r\n      </g>\r\n     </g>\r\n    </g>\r\n    <g id=\"ytick_2\">\r\n     <g id=\"line2d_13\">\r\n      <path clip-path=\"url(#pe0880ab65c)\" d=\"M 20.5625 223.963023 \r\nL 417.5875 223.963023 \r\n\" style=\"fill:none;stroke:#b0b0b0;stroke-linecap:square;stroke-width:0.8;\"/>\r\n     </g>\r\n     <g id=\"line2d_14\">\r\n      <g>\r\n       <use style=\"stroke:#000000;stroke-width:0.8;\" x=\"20.5625\" xlink:href=\"#mee978f3f51\" y=\"223.963023\"/>\r\n      </g>\r\n     </g>\r\n     <g id=\"text_7\">\r\n      <!-- 1 -->\r\n      <g transform=\"translate(7.2 227.762242)scale(0.1 -0.1)\">\r\n       <use xlink:href=\"#DejaVuSans-49\"/>\r\n      </g>\r\n     </g>\r\n    </g>\r\n    <g id=\"ytick_3\">\r\n     <g id=\"line2d_15\">\r\n      <path clip-path=\"url(#pe0880ab65c)\" d=\"M 20.5625 192.207921 \r\nL 417.5875 192.207921 \r\n\" style=\"fill:none;stroke:#b0b0b0;stroke-linecap:square;stroke-width:0.8;\"/>\r\n     </g>\r\n     <g id=\"line2d_16\">\r\n      <g>\r\n       <use style=\"stroke:#000000;stroke-width:0.8;\" x=\"20.5625\" xlink:href=\"#mee978f3f51\" y=\"192.207921\"/>\r\n      </g>\r\n     </g>\r\n     <g id=\"text_8\">\r\n      <!-- 2 -->\r\n      <defs>\r\n       <path d=\"M 19.1875 8.296875 \r\nL 53.609375 8.296875 \r\nL 53.609375 0 \r\nL 7.328125 0 \r\nL 7.328125 8.296875 \r\nQ 12.9375 14.109375 22.625 23.890625 \r\nQ 32.328125 33.6875 34.8125 36.53125 \r\nQ 39.546875 41.84375 41.421875 45.53125 \r\nQ 43.3125 49.21875 43.3125 52.78125 \r\nQ 43.3125 58.59375 39.234375 62.25 \r\nQ 35.15625 65.921875 28.609375 65.921875 \r\nQ 23.96875 65.921875 18.8125 64.3125 \r\nQ 13.671875 62.703125 7.8125 59.421875 \r\nL 7.8125 69.390625 \r\nQ 13.765625 71.78125 18.9375 73 \r\nQ 24.125 74.21875 28.421875 74.21875 \r\nQ 39.75 74.21875 46.484375 68.546875 \r\nQ 53.21875 62.890625 53.21875 53.421875 \r\nQ 53.21875 48.921875 51.53125 44.890625 \r\nQ 49.859375 40.875 45.40625 35.40625 \r\nQ 44.1875 33.984375 37.640625 27.21875 \r\nQ 31.109375 20.453125 19.1875 8.296875 \r\nz\r\n\" id=\"DejaVuSans-50\"/>\r\n      </defs>\r\n      <g transform=\"translate(7.2 196.00714)scale(0.1 -0.1)\">\r\n       <use xlink:href=\"#DejaVuSans-50\"/>\r\n      </g>\r\n     </g>\r\n    </g>\r\n    <g id=\"ytick_4\">\r\n     <g id=\"line2d_17\">\r\n      <path clip-path=\"url(#pe0880ab65c)\" d=\"M 20.5625 160.452819 \r\nL 417.5875 160.452819 \r\n\" style=\"fill:none;stroke:#b0b0b0;stroke-linecap:square;stroke-width:0.8;\"/>\r\n     </g>\r\n     <g id=\"line2d_18\">\r\n      <g>\r\n       <use style=\"stroke:#000000;stroke-width:0.8;\" x=\"20.5625\" xlink:href=\"#mee978f3f51\" y=\"160.452819\"/>\r\n      </g>\r\n     </g>\r\n     <g id=\"text_9\">\r\n      <!-- 3 -->\r\n      <defs>\r\n       <path d=\"M 40.578125 39.3125 \r\nQ 47.65625 37.796875 51.625 33 \r\nQ 55.609375 28.21875 55.609375 21.1875 \r\nQ 55.609375 10.40625 48.1875 4.484375 \r\nQ 40.765625 -1.421875 27.09375 -1.421875 \r\nQ 22.515625 -1.421875 17.65625 -0.515625 \r\nQ 12.796875 0.390625 7.625 2.203125 \r\nL 7.625 11.71875 \r\nQ 11.71875 9.328125 16.59375 8.109375 \r\nQ 21.484375 6.890625 26.8125 6.890625 \r\nQ 36.078125 6.890625 40.9375 10.546875 \r\nQ 45.796875 14.203125 45.796875 21.1875 \r\nQ 45.796875 27.640625 41.28125 31.265625 \r\nQ 36.765625 34.90625 28.71875 34.90625 \r\nL 20.21875 34.90625 \r\nL 20.21875 43.015625 \r\nL 29.109375 43.015625 \r\nQ 36.375 43.015625 40.234375 45.921875 \r\nQ 44.09375 48.828125 44.09375 54.296875 \r\nQ 44.09375 59.90625 40.109375 62.90625 \r\nQ 36.140625 65.921875 28.71875 65.921875 \r\nQ 24.65625 65.921875 20.015625 65.03125 \r\nQ 15.375 64.15625 9.8125 62.3125 \r\nL 9.8125 71.09375 \r\nQ 15.4375 72.65625 20.34375 73.4375 \r\nQ 25.25 74.21875 29.59375 74.21875 \r\nQ 40.828125 74.21875 47.359375 69.109375 \r\nQ 53.90625 64.015625 53.90625 55.328125 \r\nQ 53.90625 49.265625 50.4375 45.09375 \r\nQ 46.96875 40.921875 40.578125 39.3125 \r\nz\r\n\" id=\"DejaVuSans-51\"/>\r\n      </defs>\r\n      <g transform=\"translate(7.2 164.252038)scale(0.1 -0.1)\">\r\n       <use xlink:href=\"#DejaVuSans-51\"/>\r\n      </g>\r\n     </g>\r\n    </g>\r\n    <g id=\"ytick_5\">\r\n     <g id=\"line2d_19\">\r\n      <path clip-path=\"url(#pe0880ab65c)\" d=\"M 20.5625 128.697717 \r\nL 417.5875 128.697717 \r\n\" style=\"fill:none;stroke:#b0b0b0;stroke-linecap:square;stroke-width:0.8;\"/>\r\n     </g>\r\n     <g id=\"line2d_20\">\r\n      <g>\r\n       <use style=\"stroke:#000000;stroke-width:0.8;\" x=\"20.5625\" xlink:href=\"#mee978f3f51\" y=\"128.697717\"/>\r\n      </g>\r\n     </g>\r\n     <g id=\"text_10\">\r\n      <!-- 4 -->\r\n      <defs>\r\n       <path d=\"M 37.796875 64.3125 \r\nL 12.890625 25.390625 \r\nL 37.796875 25.390625 \r\nz\r\nM 35.203125 72.90625 \r\nL 47.609375 72.90625 \r\nL 47.609375 25.390625 \r\nL 58.015625 25.390625 \r\nL 58.015625 17.1875 \r\nL 47.609375 17.1875 \r\nL 47.609375 0 \r\nL 37.796875 0 \r\nL 37.796875 17.1875 \r\nL 4.890625 17.1875 \r\nL 4.890625 26.703125 \r\nz\r\n\" id=\"DejaVuSans-52\"/>\r\n      </defs>\r\n      <g transform=\"translate(7.2 132.496936)scale(0.1 -0.1)\">\r\n       <use xlink:href=\"#DejaVuSans-52\"/>\r\n      </g>\r\n     </g>\r\n    </g>\r\n    <g id=\"ytick_6\">\r\n     <g id=\"line2d_21\">\r\n      <path clip-path=\"url(#pe0880ab65c)\" d=\"M 20.5625 96.942615 \r\nL 417.5875 96.942615 \r\n\" style=\"fill:none;stroke:#b0b0b0;stroke-linecap:square;stroke-width:0.8;\"/>\r\n     </g>\r\n     <g id=\"line2d_22\">\r\n      <g>\r\n       <use style=\"stroke:#000000;stroke-width:0.8;\" x=\"20.5625\" xlink:href=\"#mee978f3f51\" y=\"96.942615\"/>\r\n      </g>\r\n     </g>\r\n     <g id=\"text_11\">\r\n      <!-- 5 -->\r\n      <g transform=\"translate(7.2 100.741834)scale(0.1 -0.1)\">\r\n       <use xlink:href=\"#DejaVuSans-53\"/>\r\n      </g>\r\n     </g>\r\n    </g>\r\n    <g id=\"ytick_7\">\r\n     <g id=\"line2d_23\">\r\n      <path clip-path=\"url(#pe0880ab65c)\" d=\"M 20.5625 65.187513 \r\nL 417.5875 65.187513 \r\n\" style=\"fill:none;stroke:#b0b0b0;stroke-linecap:square;stroke-width:0.8;\"/>\r\n     </g>\r\n     <g id=\"line2d_24\">\r\n      <g>\r\n       <use style=\"stroke:#000000;stroke-width:0.8;\" x=\"20.5625\" xlink:href=\"#mee978f3f51\" y=\"65.187513\"/>\r\n      </g>\r\n     </g>\r\n     <g id=\"text_12\">\r\n      <!-- 6 -->\r\n      <defs>\r\n       <path d=\"M 33.015625 40.375 \r\nQ 26.375 40.375 22.484375 35.828125 \r\nQ 18.609375 31.296875 18.609375 23.390625 \r\nQ 18.609375 15.53125 22.484375 10.953125 \r\nQ 26.375 6.390625 33.015625 6.390625 \r\nQ 39.65625 6.390625 43.53125 10.953125 \r\nQ 47.40625 15.53125 47.40625 23.390625 \r\nQ 47.40625 31.296875 43.53125 35.828125 \r\nQ 39.65625 40.375 33.015625 40.375 \r\nz\r\nM 52.59375 71.296875 \r\nL 52.59375 62.3125 \r\nQ 48.875 64.0625 45.09375 64.984375 \r\nQ 41.3125 65.921875 37.59375 65.921875 \r\nQ 27.828125 65.921875 22.671875 59.328125 \r\nQ 17.53125 52.734375 16.796875 39.40625 \r\nQ 19.671875 43.65625 24.015625 45.921875 \r\nQ 28.375 48.1875 33.59375 48.1875 \r\nQ 44.578125 48.1875 50.953125 41.515625 \r\nQ 57.328125 34.859375 57.328125 23.390625 \r\nQ 57.328125 12.15625 50.6875 5.359375 \r\nQ 44.046875 -1.421875 33.015625 -1.421875 \r\nQ 20.359375 -1.421875 13.671875 8.265625 \r\nQ 6.984375 17.96875 6.984375 36.375 \r\nQ 6.984375 53.65625 15.1875 63.9375 \r\nQ 23.390625 74.21875 37.203125 74.21875 \r\nQ 40.921875 74.21875 44.703125 73.484375 \r\nQ 48.484375 72.75 52.59375 71.296875 \r\nz\r\n\" id=\"DejaVuSans-54\"/>\r\n      </defs>\r\n      <g transform=\"translate(7.2 68.986732)scale(0.1 -0.1)\">\r\n       <use xlink:href=\"#DejaVuSans-54\"/>\r\n      </g>\r\n     </g>\r\n    </g>\r\n    <g id=\"ytick_8\">\r\n     <g id=\"line2d_25\">\r\n      <path clip-path=\"url(#pe0880ab65c)\" d=\"M 20.5625 33.432411 \r\nL 417.5875 33.432411 \r\n\" style=\"fill:none;stroke:#b0b0b0;stroke-linecap:square;stroke-width:0.8;\"/>\r\n     </g>\r\n     <g id=\"line2d_26\">\r\n      <g>\r\n       <use style=\"stroke:#000000;stroke-width:0.8;\" x=\"20.5625\" xlink:href=\"#mee978f3f51\" y=\"33.432411\"/>\r\n      </g>\r\n     </g>\r\n     <g id=\"text_13\">\r\n      <!-- 7 -->\r\n      <defs>\r\n       <path d=\"M 8.203125 72.90625 \r\nL 55.078125 72.90625 \r\nL 55.078125 68.703125 \r\nL 28.609375 0 \r\nL 18.3125 0 \r\nL 43.21875 64.59375 \r\nL 8.203125 64.59375 \r\nz\r\n\" id=\"DejaVuSans-55\"/>\r\n      </defs>\r\n      <g transform=\"translate(7.2 37.231629)scale(0.1 -0.1)\">\r\n       <use xlink:href=\"#DejaVuSans-55\"/>\r\n      </g>\r\n     </g>\r\n    </g>\r\n   </g>\r\n   <g id=\"patch_13\">\r\n    <path d=\"M 20.5625 255.718125 \r\nL 20.5625 22.318125 \r\n\" style=\"fill:none;stroke:#000000;stroke-linecap:square;stroke-linejoin:miter;stroke-width:0.8;\"/>\r\n   </g>\r\n   <g id=\"patch_14\">\r\n    <path d=\"M 417.5875 255.718125 \r\nL 417.5875 22.318125 \r\n\" style=\"fill:none;stroke:#000000;stroke-linecap:square;stroke-linejoin:miter;stroke-width:0.8;\"/>\r\n   </g>\r\n   <g id=\"patch_15\">\r\n    <path d=\"M 20.5625 255.718125 \r\nL 417.5875 255.718125 \r\n\" style=\"fill:none;stroke:#000000;stroke-linecap:square;stroke-linejoin:miter;stroke-width:0.8;\"/>\r\n   </g>\r\n   <g id=\"patch_16\">\r\n    <path d=\"M 20.5625 22.318125 \r\nL 417.5875 22.318125 \r\n\" style=\"fill:none;stroke:#000000;stroke-linecap:square;stroke-linejoin:miter;stroke-width:0.8;\"/>\r\n   </g>\r\n   <g id=\"text_14\">\r\n    <!-- Residuals -->\r\n    <defs>\r\n     <path d=\"M 44.390625 34.1875 \r\nQ 47.5625 33.109375 50.5625 29.59375 \r\nQ 53.5625 26.078125 56.59375 19.921875 \r\nL 66.609375 0 \r\nL 56 0 \r\nL 46.6875 18.703125 \r\nQ 43.0625 26.03125 39.671875 28.421875 \r\nQ 36.28125 30.8125 30.421875 30.8125 \r\nL 19.671875 30.8125 \r\nL 19.671875 0 \r\nL 9.8125 0 \r\nL 9.8125 72.90625 \r\nL 32.078125 72.90625 \r\nQ 44.578125 72.90625 50.734375 67.671875 \r\nQ 56.890625 62.453125 56.890625 51.90625 \r\nQ 56.890625 45.015625 53.6875 40.46875 \r\nQ 50.484375 35.9375 44.390625 34.1875 \r\nz\r\nM 19.671875 64.796875 \r\nL 19.671875 38.921875 \r\nL 32.078125 38.921875 \r\nQ 39.203125 38.921875 42.84375 42.21875 \r\nQ 46.484375 45.515625 46.484375 51.90625 \r\nQ 46.484375 58.296875 42.84375 61.546875 \r\nQ 39.203125 64.796875 32.078125 64.796875 \r\nz\r\n\" id=\"DejaVuSans-82\"/>\r\n     <path d=\"M 56.203125 29.59375 \r\nL 56.203125 25.203125 \r\nL 14.890625 25.203125 \r\nQ 15.484375 15.921875 20.484375 11.0625 \r\nQ 25.484375 6.203125 34.421875 6.203125 \r\nQ 39.59375 6.203125 44.453125 7.46875 \r\nQ 49.3125 8.734375 54.109375 11.28125 \r\nL 54.109375 2.78125 \r\nQ 49.265625 0.734375 44.1875 -0.34375 \r\nQ 39.109375 -1.421875 33.890625 -1.421875 \r\nQ 20.796875 -1.421875 13.15625 6.1875 \r\nQ 5.515625 13.8125 5.515625 26.8125 \r\nQ 5.515625 40.234375 12.765625 48.109375 \r\nQ 20.015625 56 32.328125 56 \r\nQ 43.359375 56 49.78125 48.890625 \r\nQ 56.203125 41.796875 56.203125 29.59375 \r\nz\r\nM 47.21875 32.234375 \r\nQ 47.125 39.59375 43.09375 43.984375 \r\nQ 39.0625 48.390625 32.421875 48.390625 \r\nQ 24.90625 48.390625 20.390625 44.140625 \r\nQ 15.875 39.890625 15.1875 32.171875 \r\nz\r\n\" id=\"DejaVuSans-101\"/>\r\n     <path d=\"M 44.28125 53.078125 \r\nL 44.28125 44.578125 \r\nQ 40.484375 46.53125 36.375 47.5 \r\nQ 32.28125 48.484375 27.875 48.484375 \r\nQ 21.1875 48.484375 17.84375 46.4375 \r\nQ 14.5 44.390625 14.5 40.28125 \r\nQ 14.5 37.15625 16.890625 35.375 \r\nQ 19.28125 33.59375 26.515625 31.984375 \r\nL 29.59375 31.296875 \r\nQ 39.15625 29.25 43.1875 25.515625 \r\nQ 47.21875 21.78125 47.21875 15.09375 \r\nQ 47.21875 7.46875 41.1875 3.015625 \r\nQ 35.15625 -1.421875 24.609375 -1.421875 \r\nQ 20.21875 -1.421875 15.453125 -0.5625 \r\nQ 10.6875 0.296875 5.421875 2 \r\nL 5.421875 11.28125 \r\nQ 10.40625 8.6875 15.234375 7.390625 \r\nQ 20.0625 6.109375 24.8125 6.109375 \r\nQ 31.15625 6.109375 34.5625 8.28125 \r\nQ 37.984375 10.453125 37.984375 14.40625 \r\nQ 37.984375 18.0625 35.515625 20.015625 \r\nQ 33.0625 21.96875 24.703125 23.78125 \r\nL 21.578125 24.515625 \r\nQ 13.234375 26.265625 9.515625 29.90625 \r\nQ 5.8125 33.546875 5.8125 39.890625 \r\nQ 5.8125 47.609375 11.28125 51.796875 \r\nQ 16.75 56 26.8125 56 \r\nQ 31.78125 56 36.171875 55.265625 \r\nQ 40.578125 54.546875 44.28125 53.078125 \r\nz\r\n\" id=\"DejaVuSans-115\"/>\r\n     <path d=\"M 9.421875 54.6875 \r\nL 18.40625 54.6875 \r\nL 18.40625 0 \r\nL 9.421875 0 \r\nz\r\nM 9.421875 75.984375 \r\nL 18.40625 75.984375 \r\nL 18.40625 64.59375 \r\nL 9.421875 64.59375 \r\nz\r\n\" id=\"DejaVuSans-105\"/>\r\n     <path d=\"M 45.40625 46.390625 \r\nL 45.40625 75.984375 \r\nL 54.390625 75.984375 \r\nL 54.390625 0 \r\nL 45.40625 0 \r\nL 45.40625 8.203125 \r\nQ 42.578125 3.328125 38.25 0.953125 \r\nQ 33.9375 -1.421875 27.875 -1.421875 \r\nQ 17.96875 -1.421875 11.734375 6.484375 \r\nQ 5.515625 14.40625 5.515625 27.296875 \r\nQ 5.515625 40.1875 11.734375 48.09375 \r\nQ 17.96875 56 27.875 56 \r\nQ 33.9375 56 38.25 53.625 \r\nQ 42.578125 51.265625 45.40625 46.390625 \r\nz\r\nM 14.796875 27.296875 \r\nQ 14.796875 17.390625 18.875 11.75 \r\nQ 22.953125 6.109375 30.078125 6.109375 \r\nQ 37.203125 6.109375 41.296875 11.75 \r\nQ 45.40625 17.390625 45.40625 27.296875 \r\nQ 45.40625 37.203125 41.296875 42.84375 \r\nQ 37.203125 48.484375 30.078125 48.484375 \r\nQ 22.953125 48.484375 18.875 42.84375 \r\nQ 14.796875 37.203125 14.796875 27.296875 \r\nz\r\n\" id=\"DejaVuSans-100\"/>\r\n     <path d=\"M 8.5 21.578125 \r\nL 8.5 54.6875 \r\nL 17.484375 54.6875 \r\nL 17.484375 21.921875 \r\nQ 17.484375 14.15625 20.5 10.265625 \r\nQ 23.53125 6.390625 29.59375 6.390625 \r\nQ 36.859375 6.390625 41.078125 11.03125 \r\nQ 45.3125 15.671875 45.3125 23.6875 \r\nL 45.3125 54.6875 \r\nL 54.296875 54.6875 \r\nL 54.296875 0 \r\nL 45.3125 0 \r\nL 45.3125 8.40625 \r\nQ 42.046875 3.421875 37.71875 1 \r\nQ 33.40625 -1.421875 27.6875 -1.421875 \r\nQ 18.265625 -1.421875 13.375 4.4375 \r\nQ 8.5 10.296875 8.5 21.578125 \r\nz\r\nM 31.109375 56 \r\nz\r\n\" id=\"DejaVuSans-117\"/>\r\n     <path d=\"M 34.28125 27.484375 \r\nQ 23.390625 27.484375 19.1875 25 \r\nQ 14.984375 22.515625 14.984375 16.5 \r\nQ 14.984375 11.71875 18.140625 8.90625 \r\nQ 21.296875 6.109375 26.703125 6.109375 \r\nQ 34.1875 6.109375 38.703125 11.40625 \r\nQ 43.21875 16.703125 43.21875 25.484375 \r\nL 43.21875 27.484375 \r\nz\r\nM 52.203125 31.203125 \r\nL 52.203125 0 \r\nL 43.21875 0 \r\nL 43.21875 8.296875 \r\nQ 40.140625 3.328125 35.546875 0.953125 \r\nQ 30.953125 -1.421875 24.3125 -1.421875 \r\nQ 15.921875 -1.421875 10.953125 3.296875 \r\nQ 6 8.015625 6 15.921875 \r\nQ 6 25.140625 12.171875 29.828125 \r\nQ 18.359375 34.515625 30.609375 34.515625 \r\nL 43.21875 34.515625 \r\nL 43.21875 35.40625 \r\nQ 43.21875 41.609375 39.140625 45 \r\nQ 35.0625 48.390625 27.6875 48.390625 \r\nQ 23 48.390625 18.546875 47.265625 \r\nQ 14.109375 46.140625 10.015625 43.890625 \r\nL 10.015625 52.203125 \r\nQ 14.9375 54.109375 19.578125 55.046875 \r\nQ 24.21875 56 28.609375 56 \r\nQ 40.484375 56 46.34375 49.84375 \r\nQ 52.203125 43.703125 52.203125 31.203125 \r\nz\r\n\" id=\"DejaVuSans-97\"/>\r\n     <path d=\"M 9.421875 75.984375 \r\nL 18.40625 75.984375 \r\nL 18.40625 0 \r\nL 9.421875 0 \r\nz\r\n\" id=\"DejaVuSans-108\"/>\r\n    </defs>\r\n    <g transform=\"translate(190.610625 16.318125)scale(0.12 -0.12)\">\r\n     <use xlink:href=\"#DejaVuSans-82\"/>\r\n     <use x=\"64.982422\" xlink:href=\"#DejaVuSans-101\"/>\r\n     <use x=\"126.505859\" xlink:href=\"#DejaVuSans-115\"/>\r\n     <use x=\"178.605469\" xlink:href=\"#DejaVuSans-105\"/>\r\n     <use x=\"206.388672\" xlink:href=\"#DejaVuSans-100\"/>\r\n     <use x=\"269.865234\" xlink:href=\"#DejaVuSans-117\"/>\r\n     <use x=\"333.244141\" xlink:href=\"#DejaVuSans-97\"/>\r\n     <use x=\"394.523438\" xlink:href=\"#DejaVuSans-108\"/>\r\n     <use x=\"422.306641\" xlink:href=\"#DejaVuSans-115\"/>\r\n    </g>\r\n   </g>\r\n  </g>\r\n </g>\r\n <defs>\r\n  <clipPath id=\"pe0880ab65c\">\r\n   <rect height=\"233.4\" width=\"397.025\" x=\"20.5625\" y=\"22.318125\"/>\r\n  </clipPath>\r\n </defs>\r\n</svg>\r\n",
      "image/png": "[encoded data removed]"
     },
     "metadata": {
      "needs_background": "light"
     }
    }
   ],
   "source": [
    "#Plotting the Error Residual Histogram\n",
    "\n",
    "lm_pred = lm.predict(X_valid)\n",
    "all_residuals = y_valid - lm_pred\n",
    "\n",
    "ax = pd.DataFrame({'Residuals': all_residuals}).hist()\n",
    "plt.tight_layout()"
   ]
  },
  {
   "cell_type": "code",
   "execution_count": 123,
   "metadata": {},
   "outputs": [],
   "source": [
    "def train_model(variables):\n",
    "    if len(variables) == 0:\n",
    "        return None\n",
    "    model = LinearRegression()\n",
    "    model.fit(X_train[variables], y_train)\n",
    "    return model\n",
    "\n",
    "def score_model(model, variables):\n",
    "    if len(variables) == 0:\n",
    "        return AIC_score(y_train, [y_train.mean()] * len(y_train), model, df=1)\n",
    "    return AIC_score(y_train, model.predict(X_train[variables]), model)"
   ]
  },
  {
   "source": [
    "### Best Model (via Backward Elimination)"
   ],
   "cell_type": "markdown",
   "metadata": {}
  },
  {
   "cell_type": "code",
   "execution_count": 124,
   "metadata": {},
   "outputs": [
    {
     "output_type": "stream",
     "name": "stdout",
     "text": [
      "Variables: Inventory, Total Available, Availability Rate, Absorption, Absorption YTD, New Supply, New Supply YTD, Under Construction, Average Net Asking Lease Rate ($/sq. ft.), TMI ($/sq. ft.), Gross Rental Rate PSF ($/sq. ft.), Average Asking Sale Price ($/sq. ft.), Average Land Costs $/Acre, Employment Rate (%), Population (thusands), Unemployment rate (%), GDP Value (Million CAD), Inflation Value (2002 = 100)\n",
      "Start: score=-526.99\n",
      "Step: score=-528.99, remove Average Net Asking Lease Rate ($/sq. ft.)\n",
      "Step: score=-530.99, remove New Supply\n",
      "Step: score=-532.99, remove Under Construction\n",
      "Step: score=-534.98, remove Unemployment rate (%)\n",
      "Step: score=-536.97, remove GDP Value (Million CAD)\n",
      "Step: score=-538.90, remove Gross Rental Rate PSF ($/sq. ft.)\n",
      "Step: score=-540.77, remove Inventory\n",
      "Step: score=-542.43, remove New Supply YTD\n",
      "Step: score=-544.07, remove Absorption\n",
      "Step: score=-545.53, remove Employment Rate (%)\n",
      "Step: score=-546.40, remove Absorption YTD\n",
      "Step: score=-547.04, remove TMI ($/sq. ft.)\n",
      "Step: score=-547.04, remove None\n",
      "['Total Available', 'Availability Rate', 'Average Asking Sale Price ($/sq. ft.)', 'Average Land Costs $/Acre', 'Population (thusands)', 'Inflation Value (2002 = 100)']\n"
     ]
    }
   ],
   "source": [
    "best_model, best_variables = backward_elimination(X_train.columns, train_model, score_model, verbose = True)\n",
    "\n",
    "print(best_variables)"
   ]
  },
  {
   "cell_type": "code",
   "execution_count": 125,
   "metadata": {},
   "outputs": [
    {
     "output_type": "stream",
     "name": "stdout",
     "text": [
      "\nRegression statistics\n\n               Mean Error (ME) : 0.0012\nRoot Mean Squared Error (RMSE) : 0.0051\n     Mean Absolute Error (MAE) : 0.0036\n"
     ]
    }
   ],
   "source": [
    "regressionSummary(y_valid, best_model.predict(X_valid[best_variables]))"
   ]
  },
  {
   "cell_type": "code",
   "execution_count": 126,
   "metadata": {},
   "outputs": [
    {
     "output_type": "execute_result",
     "data": {
      "text/plain": [
       "    Total Available  Availability Rate  Average Asking Sale Price ($/sq. ft.)  \\\n",
       "0         -0.567867          -0.534532                              -0.788164   \n",
       "1         -0.486351          -0.391236                              -0.810686   \n",
       "2          0.818078           1.041725                              -0.827487   \n",
       "3          0.269626           0.396892                              -0.792977   \n",
       "4          0.448001           0.611837                              -0.763190   \n",
       "..              ...                ...                                    ...   \n",
       "71        -1.194845          -1.251013                               1.587831   \n",
       "72        -0.896306          -0.892772                               1.587831   \n",
       "73        -0.820760          -0.821124                               0.492619   \n",
       "74        -0.977630          -0.964420                               0.492619   \n",
       "75        -0.747610          -0.749476                               1.523715   \n",
       "\n",
       "    Average Land Costs $/Acre  Population (thusands)  \\\n",
       "0                   -0.739286              -1.618503   \n",
       "1                   -0.739286              -1.561903   \n",
       "2                   -0.739286              -1.512676   \n",
       "3                   -0.739286              -1.478796   \n",
       "4                   -0.739286              -1.446111   \n",
       "..                        ...                    ...   \n",
       "71                   2.605698               1.684256   \n",
       "72                   2.685578               1.743447   \n",
       "73                   2.685578               1.795265   \n",
       "74                   2.805399               1.841701   \n",
       "75                   3.005099               1.886942   \n",
       "\n",
       "    Inflation Value (2002 = 100)  \n",
       "0                      -1.646058  \n",
       "1                      -1.613925  \n",
       "2                      -1.581793  \n",
       "3                      -1.509494  \n",
       "4                      -1.364897  \n",
       "..                           ...  \n",
       "71                      1.607372  \n",
       "72                      1.607372  \n",
       "73                      1.655571  \n",
       "74                      1.599339  \n",
       "75                      1.639505  \n",
       "\n",
       "[76 rows x 6 columns]"
      ],
      "text/html": "<div>\n<style scoped>\n    .dataframe tbody tr th:only-of-type {\n        vertical-align: middle;\n    }\n\n    .dataframe tbody tr th {\n        vertical-align: top;\n    }\n\n    .dataframe thead th {\n        text-align: right;\n    }\n</style>\n<table border=\"1\" class=\"dataframe\">\n  <thead>\n    <tr style=\"text-align: right;\">\n      <th></th>\n      <th>Total Available</th>\n      <th>Availability Rate</th>\n      <th>Average Asking Sale Price ($/sq. ft.)</th>\n      <th>Average Land Costs $/Acre</th>\n      <th>Population (thusands)</th>\n      <th>Inflation Value (2002 = 100)</th>\n    </tr>\n  </thead>\n  <tbody>\n    <tr>\n      <th>0</th>\n      <td>-0.567867</td>\n      <td>-0.534532</td>\n      <td>-0.788164</td>\n      <td>-0.739286</td>\n      <td>-1.618503</td>\n      <td>-1.646058</td>\n    </tr>\n    <tr>\n      <th>1</th>\n      <td>-0.486351</td>\n      <td>-0.391236</td>\n      <td>-0.810686</td>\n      <td>-0.739286</td>\n      <td>-1.561903</td>\n      <td>-1.613925</td>\n    </tr>\n    <tr>\n      <th>2</th>\n      <td>0.818078</td>\n      <td>1.041725</td>\n      <td>-0.827487</td>\n      <td>-0.739286</td>\n      <td>-1.512676</td>\n      <td>-1.581793</td>\n    </tr>\n    <tr>\n      <th>3</th>\n      <td>0.269626</td>\n      <td>0.396892</td>\n      <td>-0.792977</td>\n      <td>-0.739286</td>\n      <td>-1.478796</td>\n      <td>-1.509494</td>\n    </tr>\n    <tr>\n      <th>4</th>\n      <td>0.448001</td>\n      <td>0.611837</td>\n      <td>-0.763190</td>\n      <td>-0.739286</td>\n      <td>-1.446111</td>\n      <td>-1.364897</td>\n    </tr>\n    <tr>\n      <th>...</th>\n      <td>...</td>\n      <td>...</td>\n      <td>...</td>\n      <td>...</td>\n      <td>...</td>\n      <td>...</td>\n    </tr>\n    <tr>\n      <th>71</th>\n      <td>-1.194845</td>\n      <td>-1.251013</td>\n      <td>1.587831</td>\n      <td>2.605698</td>\n      <td>1.684256</td>\n      <td>1.607372</td>\n    </tr>\n    <tr>\n      <th>72</th>\n      <td>-0.896306</td>\n      <td>-0.892772</td>\n      <td>1.587831</td>\n      <td>2.685578</td>\n      <td>1.743447</td>\n      <td>1.607372</td>\n    </tr>\n    <tr>\n      <th>73</th>\n      <td>-0.820760</td>\n      <td>-0.821124</td>\n      <td>0.492619</td>\n      <td>2.685578</td>\n      <td>1.795265</td>\n      <td>1.655571</td>\n    </tr>\n    <tr>\n      <th>74</th>\n      <td>-0.977630</td>\n      <td>-0.964420</td>\n      <td>0.492619</td>\n      <td>2.805399</td>\n      <td>1.841701</td>\n      <td>1.599339</td>\n    </tr>\n    <tr>\n      <th>75</th>\n      <td>-0.747610</td>\n      <td>-0.749476</td>\n      <td>1.523715</td>\n      <td>3.005099</td>\n      <td>1.886942</td>\n      <td>1.639505</td>\n    </tr>\n  </tbody>\n</table>\n<p>76 rows × 6 columns</p>\n</div>"
     },
     "metadata": {},
     "execution_count": 126
    }
   ],
   "source": [
    "X[best_variables]"
   ]
  },
  {
   "cell_type": "code",
   "execution_count": 127,
   "metadata": {},
   "outputs": [
    {
     "output_type": "execute_result",
     "data": {
      "text/plain": [
       "0     0.005\n",
       "1     0.005\n",
       "2     0.024\n",
       "3     0.006\n",
       "4     0.009\n",
       "      ...  \n",
       "71    0.000\n",
       "72    0.003\n",
       "73    0.004\n",
       "74    0.002\n",
       "75    0.004\n",
       "Name: Vacancy Rate, Length: 76, dtype: float64"
      ]
     },
     "metadata": {},
     "execution_count": 127
    }
   ],
   "source": [
    "y"
   ]
  },
  {
   "cell_type": "code",
   "execution_count": 128,
   "metadata": {},
   "outputs": [],
   "source": [
    "y_preds = best_model.predict(X[best_variables])"
   ]
  },
  {
   "cell_type": "code",
   "execution_count": 129,
   "metadata": {},
   "outputs": [
    {
     "output_type": "stream",
     "name": "stderr",
     "text": [
      "<ipython-input-129-0636d116ebcc>:2: SettingWithCopyWarning: \nA value is trying to be set on a copy of a slice from a DataFrame.\nTry using .loc[row_indexer,col_indexer] = value instead\n\nSee the caveats in the documentation: https://pandas.pydata.org/pandas-docs/stable/user_guide/indexing.html#returning-a-view-versus-a-copy\n  final_preds_data['y_Actual'] = y\n<ipython-input-129-0636d116ebcc>:3: SettingWithCopyWarning: \nA value is trying to be set on a copy of a slice from a DataFrame.\nTry using .loc[row_indexer,col_indexer] = value instead\n\nSee the caveats in the documentation: https://pandas.pydata.org/pandas-docs/stable/user_guide/indexing.html#returning-a-view-versus-a-copy\n  final_preds_data['y_predicted'] = y_preds\n"
     ]
    }
   ],
   "source": [
    "final_preds_data = X[best_variables]\n",
    "final_preds_data['y_Actual'] = y\n",
    "final_preds_data['y_predicted'] = y_preds"
   ]
  },
  {
   "cell_type": "code",
   "execution_count": 130,
   "metadata": {},
   "outputs": [
    {
     "output_type": "execute_result",
     "data": {
      "text/plain": [
       "    Total Available  Availability Rate  Average Asking Sale Price ($/sq. ft.)  \\\n",
       "0         -0.567867          -0.534532                              -0.788164   \n",
       "1         -0.486351          -0.391236                              -0.810686   \n",
       "2          0.818078           1.041725                              -0.827487   \n",
       "3          0.269626           0.396892                              -0.792977   \n",
       "4          0.448001           0.611837                              -0.763190   \n",
       "..              ...                ...                                    ...   \n",
       "71        -1.194845          -1.251013                               1.587831   \n",
       "72        -0.896306          -0.892772                               1.587831   \n",
       "73        -0.820760          -0.821124                               0.492619   \n",
       "74        -0.977630          -0.964420                               0.492619   \n",
       "75        -0.747610          -0.749476                               1.523715   \n",
       "\n",
       "    Average Land Costs $/Acre  Population (thusands)  \\\n",
       "0                   -0.739286              -1.618503   \n",
       "1                   -0.739286              -1.561903   \n",
       "2                   -0.739286              -1.512676   \n",
       "3                   -0.739286              -1.478796   \n",
       "4                   -0.739286              -1.446111   \n",
       "..                        ...                    ...   \n",
       "71                   2.605698               1.684256   \n",
       "72                   2.685578               1.743447   \n",
       "73                   2.685578               1.795265   \n",
       "74                   2.805399               1.841701   \n",
       "75                   3.005099               1.886942   \n",
       "\n",
       "    Inflation Value (2002 = 100)  y_Actual  y_predicted  \n",
       "0                      -1.646058     0.005     0.656036  \n",
       "1                      -1.613925     0.005     0.478955  \n",
       "2                      -1.581793     0.024    -1.292202  \n",
       "3                      -1.509494     0.006    -0.495077  \n",
       "4                      -1.364897     0.009    -0.760581  \n",
       "..                           ...       ...          ...  \n",
       "71                      1.607372     0.000     1.545473  \n",
       "72                      1.607372     0.003     1.102672  \n",
       "73                      1.655571     0.004     1.014191  \n",
       "74                      1.599339     0.002     1.191241  \n",
       "75                      1.639505     0.004     0.925589  \n",
       "\n",
       "[76 rows x 8 columns]"
      ],
      "text/html": "<div>\n<style scoped>\n    .dataframe tbody tr th:only-of-type {\n        vertical-align: middle;\n    }\n\n    .dataframe tbody tr th {\n        vertical-align: top;\n    }\n\n    .dataframe thead th {\n        text-align: right;\n    }\n</style>\n<table border=\"1\" class=\"dataframe\">\n  <thead>\n    <tr style=\"text-align: right;\">\n      <th></th>\n      <th>Total Available</th>\n      <th>Availability Rate</th>\n      <th>Average Asking Sale Price ($/sq. ft.)</th>\n      <th>Average Land Costs $/Acre</th>\n      <th>Population (thusands)</th>\n      <th>Inflation Value (2002 = 100)</th>\n      <th>y_Actual</th>\n      <th>y_predicted</th>\n    </tr>\n  </thead>\n  <tbody>\n    <tr>\n      <th>0</th>\n      <td>-0.567867</td>\n      <td>-0.534532</td>\n      <td>-0.788164</td>\n      <td>-0.739286</td>\n      <td>-1.618503</td>\n      <td>-1.646058</td>\n      <td>0.005</td>\n      <td>0.656036</td>\n    </tr>\n    <tr>\n      <th>1</th>\n      <td>-0.486351</td>\n      <td>-0.391236</td>\n      <td>-0.810686</td>\n      <td>-0.739286</td>\n      <td>-1.561903</td>\n      <td>-1.613925</td>\n      <td>0.005</td>\n      <td>0.478955</td>\n    </tr>\n    <tr>\n      <th>2</th>\n      <td>0.818078</td>\n      <td>1.041725</td>\n      <td>-0.827487</td>\n      <td>-0.739286</td>\n      <td>-1.512676</td>\n      <td>-1.581793</td>\n      <td>0.024</td>\n      <td>-1.292202</td>\n    </tr>\n    <tr>\n      <th>3</th>\n      <td>0.269626</td>\n      <td>0.396892</td>\n      <td>-0.792977</td>\n      <td>-0.739286</td>\n      <td>-1.478796</td>\n      <td>-1.509494</td>\n      <td>0.006</td>\n      <td>-0.495077</td>\n    </tr>\n    <tr>\n      <th>4</th>\n      <td>0.448001</td>\n      <td>0.611837</td>\n      <td>-0.763190</td>\n      <td>-0.739286</td>\n      <td>-1.446111</td>\n      <td>-1.364897</td>\n      <td>0.009</td>\n      <td>-0.760581</td>\n    </tr>\n    <tr>\n      <th>...</th>\n      <td>...</td>\n      <td>...</td>\n      <td>...</td>\n      <td>...</td>\n      <td>...</td>\n      <td>...</td>\n      <td>...</td>\n      <td>...</td>\n    </tr>\n    <tr>\n      <th>71</th>\n      <td>-1.194845</td>\n      <td>-1.251013</td>\n      <td>1.587831</td>\n      <td>2.605698</td>\n      <td>1.684256</td>\n      <td>1.607372</td>\n      <td>0.000</td>\n      <td>1.545473</td>\n    </tr>\n    <tr>\n      <th>72</th>\n      <td>-0.896306</td>\n      <td>-0.892772</td>\n      <td>1.587831</td>\n      <td>2.685578</td>\n      <td>1.743447</td>\n      <td>1.607372</td>\n      <td>0.003</td>\n      <td>1.102672</td>\n    </tr>\n    <tr>\n      <th>73</th>\n      <td>-0.820760</td>\n      <td>-0.821124</td>\n      <td>0.492619</td>\n      <td>2.685578</td>\n      <td>1.795265</td>\n      <td>1.655571</td>\n      <td>0.004</td>\n      <td>1.014191</td>\n    </tr>\n    <tr>\n      <th>74</th>\n      <td>-0.977630</td>\n      <td>-0.964420</td>\n      <td>0.492619</td>\n      <td>2.805399</td>\n      <td>1.841701</td>\n      <td>1.599339</td>\n      <td>0.002</td>\n      <td>1.191241</td>\n    </tr>\n    <tr>\n      <th>75</th>\n      <td>-0.747610</td>\n      <td>-0.749476</td>\n      <td>1.523715</td>\n      <td>3.005099</td>\n      <td>1.886942</td>\n      <td>1.639505</td>\n      <td>0.004</td>\n      <td>0.925589</td>\n    </tr>\n  </tbody>\n</table>\n<p>76 rows × 8 columns</p>\n</div>"
     },
     "metadata": {},
     "execution_count": 130
    }
   ],
   "source": [
    "final_preds_data"
   ]
  },
  {
   "cell_type": "code",
   "execution_count": 131,
   "metadata": {},
   "outputs": [
    {
     "output_type": "stream",
     "name": "stderr",
     "text": [
      "<ipython-input-131-8294c2664a3e>:1: SettingWithCopyWarning: \nA value is trying to be set on a copy of a slice from a DataFrame\n\nSee the caveats in the documentation: https://pandas.pydata.org/pandas-docs/stable/user_guide/indexing.html#returning-a-view-versus-a-copy\n  final_preds_data.sort_values(by = 'y_Actual', inplace = True, ascending = False)\n"
     ]
    }
   ],
   "source": [
    "final_preds_data.sort_values(by = 'y_Actual', inplace = True, ascending = False)"
   ]
  },
  {
   "cell_type": "code",
   "execution_count": 132,
   "metadata": {},
   "outputs": [
    {
     "output_type": "execute_result",
     "data": {
      "text/plain": [
       "    Total Available  Availability Rate  Average Asking Sale Price ($/sq. ft.)  \\\n",
       "37         1.853582           1.829853                              -0.523619   \n",
       "2          0.818078           1.041725                              -0.827487   \n",
       "36         1.689237           1.686557                              -0.542236   \n",
       "40         1.319795           1.328317                              -0.332454   \n",
       "41         1.021275           0.970077                              -0.320557   \n",
       "..              ...                ...                                    ...   \n",
       "70        -1.228945          -1.251013                               1.587831   \n",
       "64        -1.043492          -1.036068                               1.870372   \n",
       "63        -1.004789          -1.036068                               1.882003   \n",
       "54        -0.798706          -0.821124                              -0.094700   \n",
       "59        -0.786530          -0.821124                               1.495539   \n",
       "\n",
       "    Average Land Costs $/Acre  Population (thusands)  \\\n",
       "37                  -0.389810              -0.093279   \n",
       "2                   -0.739286              -1.512676   \n",
       "36                  -0.389810              -0.130946   \n",
       "40                  -0.389810               0.056194   \n",
       "41                  -0.389810               0.104823   \n",
       "..                        ...                    ...   \n",
       "70                   2.605698               1.613705   \n",
       "64                   1.407495               1.192788   \n",
       "63                   1.407495               1.127817   \n",
       "54                  -0.389810               0.683583   \n",
       "59                   0.209291               0.911579   \n",
       "\n",
       "    Inflation Value (2002 = 100)  y_Actual  y_predicted  \n",
       "37                      0.008773     0.027    -2.264459  \n",
       "2                      -1.581793     0.024    -1.292202  \n",
       "36                     -0.055492     0.023    -2.087417  \n",
       "40                      0.153370     0.021    -1.644372  \n",
       "41                      0.129270     0.019    -1.201605  \n",
       "..                           ...       ...          ...  \n",
       "70                      1.575239     0.000     1.545435  \n",
       "64                      1.334245     0.000     1.279468  \n",
       "63                      1.117349     0.000     1.279204  \n",
       "54                      0.715691     0.000     1.013085  \n",
       "59                      0.916520     0.000     1.013293  \n",
       "\n",
       "[76 rows x 8 columns]"
      ],
      "text/html": "<div>\n<style scoped>\n    .dataframe tbody tr th:only-of-type {\n        vertical-align: middle;\n    }\n\n    .dataframe tbody tr th {\n        vertical-align: top;\n    }\n\n    .dataframe thead th {\n        text-align: right;\n    }\n</style>\n<table border=\"1\" class=\"dataframe\">\n  <thead>\n    <tr style=\"text-align: right;\">\n      <th></th>\n      <th>Total Available</th>\n      <th>Availability Rate</th>\n      <th>Average Asking Sale Price ($/sq. ft.)</th>\n      <th>Average Land Costs $/Acre</th>\n      <th>Population (thusands)</th>\n      <th>Inflation Value (2002 = 100)</th>\n      <th>y_Actual</th>\n      <th>y_predicted</th>\n    </tr>\n  </thead>\n  <tbody>\n    <tr>\n      <th>37</th>\n      <td>1.853582</td>\n      <td>1.829853</td>\n      <td>-0.523619</td>\n      <td>-0.389810</td>\n      <td>-0.093279</td>\n      <td>0.008773</td>\n      <td>0.027</td>\n      <td>-2.264459</td>\n    </tr>\n    <tr>\n      <th>2</th>\n      <td>0.818078</td>\n      <td>1.041725</td>\n      <td>-0.827487</td>\n      <td>-0.739286</td>\n      <td>-1.512676</td>\n      <td>-1.581793</td>\n      <td>0.024</td>\n      <td>-1.292202</td>\n    </tr>\n    <tr>\n      <th>36</th>\n      <td>1.689237</td>\n      <td>1.686557</td>\n      <td>-0.542236</td>\n      <td>-0.389810</td>\n      <td>-0.130946</td>\n      <td>-0.055492</td>\n      <td>0.023</td>\n      <td>-2.087417</td>\n    </tr>\n    <tr>\n      <th>40</th>\n      <td>1.319795</td>\n      <td>1.328317</td>\n      <td>-0.332454</td>\n      <td>-0.389810</td>\n      <td>0.056194</td>\n      <td>0.153370</td>\n      <td>0.021</td>\n      <td>-1.644372</td>\n    </tr>\n    <tr>\n      <th>41</th>\n      <td>1.021275</td>\n      <td>0.970077</td>\n      <td>-0.320557</td>\n      <td>-0.389810</td>\n      <td>0.104823</td>\n      <td>0.129270</td>\n      <td>0.019</td>\n      <td>-1.201605</td>\n    </tr>\n    <tr>\n      <th>...</th>\n      <td>...</td>\n      <td>...</td>\n      <td>...</td>\n      <td>...</td>\n      <td>...</td>\n      <td>...</td>\n      <td>...</td>\n      <td>...</td>\n    </tr>\n    <tr>\n      <th>70</th>\n      <td>-1.228945</td>\n      <td>-1.251013</td>\n      <td>1.587831</td>\n      <td>2.605698</td>\n      <td>1.613705</td>\n      <td>1.575239</td>\n      <td>0.000</td>\n      <td>1.545435</td>\n    </tr>\n    <tr>\n      <th>64</th>\n      <td>-1.043492</td>\n      <td>-1.036068</td>\n      <td>1.870372</td>\n      <td>1.407495</td>\n      <td>1.192788</td>\n      <td>1.334245</td>\n      <td>0.000</td>\n      <td>1.279468</td>\n    </tr>\n    <tr>\n      <th>63</th>\n      <td>-1.004789</td>\n      <td>-1.036068</td>\n      <td>1.882003</td>\n      <td>1.407495</td>\n      <td>1.127817</td>\n      <td>1.117349</td>\n      <td>0.000</td>\n      <td>1.279204</td>\n    </tr>\n    <tr>\n      <th>54</th>\n      <td>-0.798706</td>\n      <td>-0.821124</td>\n      <td>-0.094700</td>\n      <td>-0.389810</td>\n      <td>0.683583</td>\n      <td>0.715691</td>\n      <td>0.000</td>\n      <td>1.013085</td>\n    </tr>\n    <tr>\n      <th>59</th>\n      <td>-0.786530</td>\n      <td>-0.821124</td>\n      <td>1.495539</td>\n      <td>0.209291</td>\n      <td>0.911579</td>\n      <td>0.916520</td>\n      <td>0.000</td>\n      <td>1.013293</td>\n    </tr>\n  </tbody>\n</table>\n<p>76 rows × 8 columns</p>\n</div>"
     },
     "metadata": {},
     "execution_count": 132
    }
   ],
   "source": [
    "final_preds_data"
   ]
  },
  {
   "cell_type": "code",
   "execution_count": 133,
   "metadata": {},
   "outputs": [],
   "source": [
    "final_preds_data.to_excel('Decile_Chart_Data.xlsx')"
   ]
  },
  {
   "source": [
    "### R2 Score"
   ],
   "cell_type": "markdown",
   "metadata": {}
  },
  {
   "cell_type": "code",
   "execution_count": 135,
   "metadata": {},
   "outputs": [
    {
     "output_type": "execute_result",
     "data": {
      "text/plain": [
       "0.8978181692038336"
      ]
     },
     "metadata": {},
     "execution_count": 135
    }
   ],
   "source": [
    "r2_score(y_train, best_model.predict(X_train[best_variables]))"
   ]
  },
  {
   "cell_type": "code",
   "execution_count": 136,
   "metadata": {},
   "outputs": [
    {
     "output_type": "execute_result",
     "data": {
      "text/plain": [
       "0.886250414774079"
      ]
     },
     "metadata": {},
     "execution_count": 136
    }
   ],
   "source": [
    "adjusted_r2_score(y_train, best_model.predict(X_train[best_variables]), best_model)"
   ]
  },
  {
   "source": [
    "### Model Coefficients"
   ],
   "cell_type": "markdown",
   "metadata": {}
  },
  {
   "cell_type": "code",
   "execution_count": 137,
   "metadata": {},
   "outputs": [
    {
     "output_type": "stream",
     "name": "stdout",
     "text": [
      "intercept  -0.002714057179733681\n                               Predictor   coefficient\n0                        Total Available  7.281931e-08\n1                      Availability Rate -1.236039e+00\n2  Average Asking Sale Price ($/sq. ft.) -1.973145e-05\n3              Average Land Costs $/Acre  3.121748e-09\n4                  Population (thusands) -2.991309e-05\n5           Inflation Value (2002 = 100)  1.224700e-03\n"
     ]
    }
   ],
   "source": [
    "# print coefficients\n",
    "print('intercept ', best_model.intercept_)\n",
    "print(pd.DataFrame({'Predictor': X[best_variables].columns, 'coefficient': best_model.coef_}))"
   ]
  },
  {
   "source": [
    "### Partial R2 Score¶"
   ],
   "cell_type": "markdown",
   "metadata": {}
  },
  {
   "cell_type": "code",
   "execution_count": 138,
   "metadata": {},
   "outputs": [
    {
     "output_type": "execute_result",
     "data": {
      "text/plain": [
       "['Total Available',\n",
       " 'Availability Rate',\n",
       " 'Average Asking Sale Price ($/sq. ft.)',\n",
       " 'Average Land Costs $/Acre',\n",
       " 'Population (thusands)',\n",
       " 'Inflation Value (2002 = 100)']"
      ]
     },
     "metadata": {},
     "execution_count": 138
    }
   ],
   "source": [
    "best_variables"
   ]
  },
  {
   "cell_type": "code",
   "execution_count": 140,
   "metadata": {},
   "outputs": [
    {
     "output_type": "execute_result",
     "data": {
      "text/plain": [
       "          n         r         CI95%        r2   adj_r2     p-val   BF10  \\\n",
       "pearson  76 -0.030517  [-0.25, 0.2]  0.000931 -0.02644  0.793558  0.148   \n",
       "\n",
       "            power  \n",
       "pearson  0.057705  "
      ],
      "text/html": "<div>\n<style scoped>\n    .dataframe tbody tr th:only-of-type {\n        vertical-align: middle;\n    }\n\n    .dataframe tbody tr th {\n        vertical-align: top;\n    }\n\n    .dataframe thead th {\n        text-align: right;\n    }\n</style>\n<table border=\"1\" class=\"dataframe\">\n  <thead>\n    <tr style=\"text-align: right;\">\n      <th></th>\n      <th>n</th>\n      <th>r</th>\n      <th>CI95%</th>\n      <th>r2</th>\n      <th>adj_r2</th>\n      <th>p-val</th>\n      <th>BF10</th>\n      <th>power</th>\n    </tr>\n  </thead>\n  <tbody>\n    <tr>\n      <th>pearson</th>\n      <td>76</td>\n      <td>-0.030517</td>\n      <td>[-0.25, 0.2]</td>\n      <td>0.000931</td>\n      <td>-0.02644</td>\n      <td>0.793558</td>\n      <td>0.148</td>\n      <td>0.057705</td>\n    </tr>\n  </tbody>\n</table>\n</div>"
     },
     "metadata": {},
     "execution_count": 140
    }
   ],
   "source": [
    "pg.partial_corr(data = toronto_df, x = 'Total Available', y = 'Vacancy Rate', \n",
    "                covar = ['Availability Rate', 'Average Asking Sale Price ($/sq. ft.)', \n",
    "                         'Average Land Costs $/Acre', 'Population (thusands)', 'Inflation Value (2002 = 100)'])"
   ]
  },
  {
   "cell_type": "code",
   "execution_count": 141,
   "metadata": {},
   "outputs": [
    {
     "output_type": "execute_result",
     "data": {
      "text/plain": [
       "          n         r          CI95%        r2    adj_r2     p-val   BF10  \\\n",
       "pearson  76  0.119488  [-0.11, 0.34]  0.014277 -0.012729  0.303903  0.241   \n",
       "\n",
       "            power  \n",
       "pearson  0.177784  "
      ],
      "text/html": "<div>\n<style scoped>\n    .dataframe tbody tr th:only-of-type {\n        vertical-align: middle;\n    }\n\n    .dataframe tbody tr th {\n        vertical-align: top;\n    }\n\n    .dataframe thead th {\n        text-align: right;\n    }\n</style>\n<table border=\"1\" class=\"dataframe\">\n  <thead>\n    <tr style=\"text-align: right;\">\n      <th></th>\n      <th>n</th>\n      <th>r</th>\n      <th>CI95%</th>\n      <th>r2</th>\n      <th>adj_r2</th>\n      <th>p-val</th>\n      <th>BF10</th>\n      <th>power</th>\n    </tr>\n  </thead>\n  <tbody>\n    <tr>\n      <th>pearson</th>\n      <td>76</td>\n      <td>0.119488</td>\n      <td>[-0.11, 0.34]</td>\n      <td>0.014277</td>\n      <td>-0.012729</td>\n      <td>0.303903</td>\n      <td>0.241</td>\n      <td>0.177784</td>\n    </tr>\n  </tbody>\n</table>\n</div>"
     },
     "metadata": {},
     "execution_count": 141
    }
   ],
   "source": [
    "pg.partial_corr(data = toronto_df, x = 'Availability Rate', y = 'Vacancy Rate', \n",
    "                covar = ['Total Available', 'Average Asking Sale Price ($/sq. ft.)', \n",
    "                         'Average Land Costs $/Acre', 'Population (thusands)', 'Inflation Value (2002 = 100)'])"
   ]
  },
  {
   "cell_type": "code",
   "execution_count": 142,
   "metadata": {},
   "outputs": [
    {
     "output_type": "execute_result",
     "data": {
      "text/plain": [
       "          n        r           CI95%        r2    adj_r2    p-val   BF10  \\\n",
       "pearson  76 -0.28364  [-0.48, -0.06]  0.080452  0.055259  0.01303  2.948   \n",
       "\n",
       "            power  \n",
       "pearson  0.707521  "
      ],
      "text/html": "<div>\n<style scoped>\n    .dataframe tbody tr th:only-of-type {\n        vertical-align: middle;\n    }\n\n    .dataframe tbody tr th {\n        vertical-align: top;\n    }\n\n    .dataframe thead th {\n        text-align: right;\n    }\n</style>\n<table border=\"1\" class=\"dataframe\">\n  <thead>\n    <tr style=\"text-align: right;\">\n      <th></th>\n      <th>n</th>\n      <th>r</th>\n      <th>CI95%</th>\n      <th>r2</th>\n      <th>adj_r2</th>\n      <th>p-val</th>\n      <th>BF10</th>\n      <th>power</th>\n    </tr>\n  </thead>\n  <tbody>\n    <tr>\n      <th>pearson</th>\n      <td>76</td>\n      <td>-0.28364</td>\n      <td>[-0.48, -0.06]</td>\n      <td>0.080452</td>\n      <td>0.055259</td>\n      <td>0.01303</td>\n      <td>2.948</td>\n      <td>0.707521</td>\n    </tr>\n  </tbody>\n</table>\n</div>"
     },
     "metadata": {},
     "execution_count": 142
    }
   ],
   "source": [
    "pg.partial_corr(data = toronto_df, x = 'Average Asking Sale Price ($/sq. ft.)', y = 'Vacancy Rate', \n",
    "                covar = ['Total Available', 'Availability Rate', \n",
    "                         'Average Land Costs $/Acre', 'Population (thusands)', 'Inflation Value (2002 = 100)'])"
   ]
  },
  {
   "cell_type": "code",
   "execution_count": 143,
   "metadata": {},
   "outputs": [
    {
     "output_type": "execute_result",
     "data": {
      "text/plain": [
       "          n         r         CI95%       r2    adj_r2    p-val   BF10  \\\n",
       "pearson  76  0.028462  [-0.2, 0.25]  0.00081 -0.026565  0.80718  0.148   \n",
       "\n",
       "           power  \n",
       "pearson  0.05667  "
      ],
      "text/html": "<div>\n<style scoped>\n    .dataframe tbody tr th:only-of-type {\n        vertical-align: middle;\n    }\n\n    .dataframe tbody tr th {\n        vertical-align: top;\n    }\n\n    .dataframe thead th {\n        text-align: right;\n    }\n</style>\n<table border=\"1\" class=\"dataframe\">\n  <thead>\n    <tr style=\"text-align: right;\">\n      <th></th>\n      <th>n</th>\n      <th>r</th>\n      <th>CI95%</th>\n      <th>r2</th>\n      <th>adj_r2</th>\n      <th>p-val</th>\n      <th>BF10</th>\n      <th>power</th>\n    </tr>\n  </thead>\n  <tbody>\n    <tr>\n      <th>pearson</th>\n      <td>76</td>\n      <td>0.028462</td>\n      <td>[-0.2, 0.25]</td>\n      <td>0.00081</td>\n      <td>-0.026565</td>\n      <td>0.80718</td>\n      <td>0.148</td>\n      <td>0.05667</td>\n    </tr>\n  </tbody>\n</table>\n</div>"
     },
     "metadata": {},
     "execution_count": 143
    }
   ],
   "source": [
    "pg.partial_corr(data = toronto_df, x = 'Average Land Costs $/Acre', y = 'Vacancy Rate', \n",
    "                covar = ['Total Available', 'Availability Rate', 'Average Asking Sale Price ($/sq. ft.)',\n",
    "                         'Population (thusands)', 'Inflation Value (2002 = 100)'])"
   ]
  },
  {
   "cell_type": "code",
   "execution_count": 144,
   "metadata": {},
   "outputs": [
    {
     "output_type": "execute_result",
     "data": {
      "text/plain": [
       "          n         r          CI95%        r2    adj_r2     p-val   BF10  \\\n",
       "pearson  76 -0.141106  [-0.36, 0.09]  0.019911 -0.006941  0.224046  0.296   \n",
       "\n",
       "            power  \n",
       "pearson  0.230375  "
      ],
      "text/html": "<div>\n<style scoped>\n    .dataframe tbody tr th:only-of-type {\n        vertical-align: middle;\n    }\n\n    .dataframe tbody tr th {\n        vertical-align: top;\n    }\n\n    .dataframe thead th {\n        text-align: right;\n    }\n</style>\n<table border=\"1\" class=\"dataframe\">\n  <thead>\n    <tr style=\"text-align: right;\">\n      <th></th>\n      <th>n</th>\n      <th>r</th>\n      <th>CI95%</th>\n      <th>r2</th>\n      <th>adj_r2</th>\n      <th>p-val</th>\n      <th>BF10</th>\n      <th>power</th>\n    </tr>\n  </thead>\n  <tbody>\n    <tr>\n      <th>pearson</th>\n      <td>76</td>\n      <td>-0.141106</td>\n      <td>[-0.36, 0.09]</td>\n      <td>0.019911</td>\n      <td>-0.006941</td>\n      <td>0.224046</td>\n      <td>0.296</td>\n      <td>0.230375</td>\n    </tr>\n  </tbody>\n</table>\n</div>"
     },
     "metadata": {},
     "execution_count": 144
    }
   ],
   "source": [
    "pg.partial_corr(data = toronto_df, x = 'Population (thusands)', y = 'Vacancy Rate', \n",
    "                covar = ['Total Available', 'Availability Rate', 'Average Asking Sale Price ($/sq. ft.)',\n",
    "                         'Average Land Costs $/Acre', 'Inflation Value (2002 = 100)'])"
   ]
  },
  {
   "cell_type": "code",
   "execution_count": 145,
   "metadata": {},
   "outputs": [
    {
     "output_type": "execute_result",
     "data": {
      "text/plain": [
       "          n         r          CI95%       r2   adj_r2     p-val   BF10  \\\n",
       "pearson  76  0.176891  [-0.05, 0.39]  0.03129  0.00475  0.126359  0.451   \n",
       "\n",
       "            power  \n",
       "pearson  0.335923  "
      ],
      "text/html": "<div>\n<style scoped>\n    .dataframe tbody tr th:only-of-type {\n        vertical-align: middle;\n    }\n\n    .dataframe tbody tr th {\n        vertical-align: top;\n    }\n\n    .dataframe thead th {\n        text-align: right;\n    }\n</style>\n<table border=\"1\" class=\"dataframe\">\n  <thead>\n    <tr style=\"text-align: right;\">\n      <th></th>\n      <th>n</th>\n      <th>r</th>\n      <th>CI95%</th>\n      <th>r2</th>\n      <th>adj_r2</th>\n      <th>p-val</th>\n      <th>BF10</th>\n      <th>power</th>\n    </tr>\n  </thead>\n  <tbody>\n    <tr>\n      <th>pearson</th>\n      <td>76</td>\n      <td>0.176891</td>\n      <td>[-0.05, 0.39]</td>\n      <td>0.03129</td>\n      <td>0.00475</td>\n      <td>0.126359</td>\n      <td>0.451</td>\n      <td>0.335923</td>\n    </tr>\n  </tbody>\n</table>\n</div>"
     },
     "metadata": {},
     "execution_count": 145
    }
   ],
   "source": [
    "pg.partial_corr(data = toronto_df, x = 'Inflation Value (2002 = 100)', y = 'Vacancy Rate', \n",
    "                covar = ['Total Available', 'Availability Rate', 'Average Asking Sale Price ($/sq. ft.)',\n",
    "                         'Average Land Costs $/Acre', 'Population (thusands)'])"
   ]
  },
  {
   "cell_type": "code",
   "execution_count": 146,
   "metadata": {},
   "outputs": [
    {
     "output_type": "stream",
     "name": "stdout",
     "text": [
      "0.780104\n"
     ]
    }
   ],
   "source": [
    "print(0.176891 + 0.141106 + 0.028462 + 0.28364 + 0.119488 + 0.030517)"
   ]
  },
  {
   "cell_type": "code",
   "execution_count": 147,
   "metadata": {},
   "outputs": [
    {
     "output_type": "execute_result",
     "data": {
      "text/plain": [
       "    GDP Value (Million CAD)  Vacancy Rate\n",
       "0                    325000         0.005\n",
       "1                    325000         0.005\n",
       "2                    325000         0.024\n",
       "3                    325000         0.006\n",
       "4                    325000         0.009\n",
       "..                      ...           ...\n",
       "71                   450318         0.000\n",
       "72                   384921         0.003\n",
       "73                   384921         0.004\n",
       "74                   384921         0.002\n",
       "75                   384921         0.004\n",
       "\n",
       "[76 rows x 2 columns]"
      ],
      "text/html": "<div>\n<style scoped>\n    .dataframe tbody tr th:only-of-type {\n        vertical-align: middle;\n    }\n\n    .dataframe tbody tr th {\n        vertical-align: top;\n    }\n\n    .dataframe thead th {\n        text-align: right;\n    }\n</style>\n<table border=\"1\" class=\"dataframe\">\n  <thead>\n    <tr style=\"text-align: right;\">\n      <th></th>\n      <th>GDP Value (Million CAD)</th>\n      <th>Vacancy Rate</th>\n    </tr>\n  </thead>\n  <tbody>\n    <tr>\n      <th>0</th>\n      <td>325000</td>\n      <td>0.005</td>\n    </tr>\n    <tr>\n      <th>1</th>\n      <td>325000</td>\n      <td>0.005</td>\n    </tr>\n    <tr>\n      <th>2</th>\n      <td>325000</td>\n      <td>0.024</td>\n    </tr>\n    <tr>\n      <th>3</th>\n      <td>325000</td>\n      <td>0.006</td>\n    </tr>\n    <tr>\n      <th>4</th>\n      <td>325000</td>\n      <td>0.009</td>\n    </tr>\n    <tr>\n      <th>...</th>\n      <td>...</td>\n      <td>...</td>\n    </tr>\n    <tr>\n      <th>71</th>\n      <td>450318</td>\n      <td>0.000</td>\n    </tr>\n    <tr>\n      <th>72</th>\n      <td>384921</td>\n      <td>0.003</td>\n    </tr>\n    <tr>\n      <th>73</th>\n      <td>384921</td>\n      <td>0.004</td>\n    </tr>\n    <tr>\n      <th>74</th>\n      <td>384921</td>\n      <td>0.002</td>\n    </tr>\n    <tr>\n      <th>75</th>\n      <td>384921</td>\n      <td>0.004</td>\n    </tr>\n  </tbody>\n</table>\n<p>76 rows × 2 columns</p>\n</div>"
     },
     "metadata": {},
     "execution_count": 147
    }
   ],
   "source": [
    "decile_gdp = toronto_df[['GDP Value (Million CAD)', 'Vacancy Rate']]\n",
    "decile_gdp"
   ]
  },
  {
   "cell_type": "code",
   "execution_count": 148,
   "metadata": {},
   "outputs": [],
   "source": [
    "decile_gdp = decile_gdp.sort_values(by = 'Vacancy Rate', ascending = False)"
   ]
  },
  {
   "cell_type": "code",
   "execution_count": 149,
   "metadata": {},
   "outputs": [
    {
     "output_type": "execute_result",
     "data": {
      "text/plain": [
       "    GDP Value (Million CAD)  Vacancy Rate\n",
       "37                   309981         0.027\n",
       "2                    325000         0.024\n",
       "36                   309981         0.023\n",
       "40                   322045         0.021\n",
       "41                   322045         0.019\n",
       "..                      ...           ...\n",
       "70                   450318         0.000\n",
       "64                   425182         0.000\n",
       "63                   405156         0.000\n",
       "54                   364219         0.000\n",
       "59                   385934         0.000\n",
       "\n",
       "[76 rows x 2 columns]"
      ],
      "text/html": "<div>\n<style scoped>\n    .dataframe tbody tr th:only-of-type {\n        vertical-align: middle;\n    }\n\n    .dataframe tbody tr th {\n        vertical-align: top;\n    }\n\n    .dataframe thead th {\n        text-align: right;\n    }\n</style>\n<table border=\"1\" class=\"dataframe\">\n  <thead>\n    <tr style=\"text-align: right;\">\n      <th></th>\n      <th>GDP Value (Million CAD)</th>\n      <th>Vacancy Rate</th>\n    </tr>\n  </thead>\n  <tbody>\n    <tr>\n      <th>37</th>\n      <td>309981</td>\n      <td>0.027</td>\n    </tr>\n    <tr>\n      <th>2</th>\n      <td>325000</td>\n      <td>0.024</td>\n    </tr>\n    <tr>\n      <th>36</th>\n      <td>309981</td>\n      <td>0.023</td>\n    </tr>\n    <tr>\n      <th>40</th>\n      <td>322045</td>\n      <td>0.021</td>\n    </tr>\n    <tr>\n      <th>41</th>\n      <td>322045</td>\n      <td>0.019</td>\n    </tr>\n    <tr>\n      <th>...</th>\n      <td>...</td>\n      <td>...</td>\n    </tr>\n    <tr>\n      <th>70</th>\n      <td>450318</td>\n      <td>0.000</td>\n    </tr>\n    <tr>\n      <th>64</th>\n      <td>425182</td>\n      <td>0.000</td>\n    </tr>\n    <tr>\n      <th>63</th>\n      <td>405156</td>\n      <td>0.000</td>\n    </tr>\n    <tr>\n      <th>54</th>\n      <td>364219</td>\n      <td>0.000</td>\n    </tr>\n    <tr>\n      <th>59</th>\n      <td>385934</td>\n      <td>0.000</td>\n    </tr>\n  </tbody>\n</table>\n<p>76 rows × 2 columns</p>\n</div>"
     },
     "metadata": {},
     "execution_count": 149
    }
   ],
   "source": [
    "decile_gdp"
   ]
  },
  {
   "cell_type": "code",
   "execution_count": 150,
   "metadata": {},
   "outputs": [],
   "source": [
    "new_df = toronto_df"
   ]
  },
  {
   "cell_type": "code",
   "execution_count": 151,
   "metadata": {},
   "outputs": [
    {
     "output_type": "stream",
     "name": "stderr",
     "text": [
      "<ipython-input-151-e047b003fc8f>:5: SettingWithCopyWarning: \nA value is trying to be set on a copy of a slice from a DataFrame.\nTry using .loc[row_indexer,col_indexer] = value instead\n\nSee the caveats in the documentation: https://pandas.pydata.org/pandas-docs/stable/user_guide/indexing.html#returning-a-view-versus-a-copy\n  X[predictors] = SC.fit_transform(X[predictors])\nC:\\Users\\Shamil\\AppData\\Local\\Anaconda2\\lib\\site-packages\\pandas\\core\\indexing.py:966: SettingWithCopyWarning: \nA value is trying to be set on a copy of a slice from a DataFrame.\nTry using .loc[row_indexer,col_indexer] = value instead\n\nSee the caveats in the documentation: https://pandas.pydata.org/pandas-docs/stable/user_guide/indexing.html#returning-a-view-versus-a-copy\n  self.obj[item] = s\n"
     ]
    }
   ],
   "source": [
    "X = new_df[predictors]\n",
    "y = new_df[outcome]\n",
    "\n",
    "SC = StandardScaler()\n",
    "X[predictors] = SC.fit_transform(X[predictors])"
   ]
  },
  {
   "cell_type": "code",
   "execution_count": 152,
   "metadata": {},
   "outputs": [
    {
     "output_type": "execute_result",
     "data": {
      "text/plain": [
       "0     0.005\n",
       "1     0.005\n",
       "2     0.024\n",
       "3     0.006\n",
       "4     0.009\n",
       "      ...  \n",
       "71    0.000\n",
       "72    0.003\n",
       "73    0.004\n",
       "74    0.002\n",
       "75    0.004\n",
       "Name: Vacancy Rate, Length: 76, dtype: float64"
      ]
     },
     "metadata": {},
     "execution_count": 152
    }
   ],
   "source": [
    "y"
   ]
  },
  {
   "cell_type": "code",
   "execution_count": 153,
   "metadata": {},
   "outputs": [
    {
     "output_type": "stream",
     "name": "stderr",
     "text": [
      "<ipython-input-153-2b453ef6b77b>:1: SettingWithCopyWarning: \nA value is trying to be set on a copy of a slice from a DataFrame.\nTry using .loc[row_indexer,col_indexer] = value instead\n\nSee the caveats in the documentation: https://pandas.pydata.org/pandas-docs/stable/user_guide/indexing.html#returning-a-view-versus-a-copy\n  X['Vacancy Rate'] = y\n"
     ]
    }
   ],
   "source": [
    "X['Vacancy Rate'] = y"
   ]
  },
  {
   "cell_type": "code",
   "execution_count": 154,
   "metadata": {},
   "outputs": [
    {
     "output_type": "execute_result",
     "data": {
      "text/plain": [
       "    Inventory  Total Available  Availability Rate  Absorption  Absorption YTD  \\\n",
       "0   -1.897948        -0.567867          -0.534532   -0.144980       -0.066614   \n",
       "1   -1.897948        -0.486351          -0.391236   -0.121966       -0.166556   \n",
       "2   -1.897948         0.818078           1.041725   -2.737642       -1.765826   \n",
       "3   -1.897948         0.269626           0.396892    1.225470       -1.093406   \n",
       "4   -1.897948         0.448001           0.611837   -0.329136       -0.172174   \n",
       "..        ...              ...                ...         ...             ...   \n",
       "71   0.402952        -1.194845          -1.251013   -0.020546        0.194076   \n",
       "72   0.402952        -0.896306          -0.892772   -0.586153       -0.319498   \n",
       "73   0.402952        -0.820760          -0.821124   -0.109196       -0.412120   \n",
       "74   0.402952        -0.977630          -0.964420    0.387919       -0.219792   \n",
       "75   0.402952        -0.747610          -0.749476   -0.439600       -0.501804   \n",
       "\n",
       "    New Supply  New Supply YTD  Under Construction  \\\n",
       "0     -0.11547        -0.11547                 0.0   \n",
       "1     -0.11547        -0.11547                 0.0   \n",
       "2     -0.11547        -0.11547                 0.0   \n",
       "3     -0.11547        -0.11547                 0.0   \n",
       "4     -0.11547        -0.11547                 0.0   \n",
       "..         ...             ...                 ...   \n",
       "71    -0.11547        -0.11547                 0.0   \n",
       "72    -0.11547        -0.11547                 0.0   \n",
       "73    -0.11547        -0.11547                 0.0   \n",
       "74    -0.11547        -0.11547                 0.0   \n",
       "75    -0.11547        -0.11547                 0.0   \n",
       "\n",
       "    Average Net Asking Lease Rate ($/sq. ft.)  TMI ($/sq. ft.)  \\\n",
       "0                                   -0.828871        -1.285927   \n",
       "1                                   -0.657400         0.254630   \n",
       "2                                   -0.084689         0.254630   \n",
       "3                                    0.062776         0.254630   \n",
       "4                                   -0.067542         0.254630   \n",
       "..                                        ...              ...   \n",
       "71                                   0.618340         1.711914   \n",
       "72                                   4.476425         1.711914   \n",
       "73                                   3.328087         1.816006   \n",
       "74                                   3.994387         0.067265   \n",
       "75                                   2.595017         2.076235   \n",
       "\n",
       "    Gross Rental Rate PSF ($/sq. ft.)  Average Asking Sale Price ($/sq. ft.)  \\\n",
       "0                           -0.955625                              -0.788164   \n",
       "1                           -0.565142                              -0.810686   \n",
       "2                           -0.039249                              -0.827487   \n",
       "3                            0.096160                              -0.792977   \n",
       "4                           -0.023504                              -0.763190   \n",
       "..                                ...                                    ...   \n",
       "71                           0.826742                               1.587831   \n",
       "72                           4.369433                               1.587831   \n",
       "73                           3.330716                               0.492619   \n",
       "74                           3.678026                               0.492619   \n",
       "75                           2.696937                               1.523715   \n",
       "\n",
       "    Average Land Costs $/Acre  Employment Rate (%)  Population (thusands)  \\\n",
       "0                   -0.739286             1.322860              -1.618503   \n",
       "1                   -0.739286             0.818211              -1.561903   \n",
       "2                   -0.739286             0.986427              -1.512676   \n",
       "3                   -0.739286             1.322860              -1.478796   \n",
       "4                   -0.739286             1.547149              -1.446111   \n",
       "..                        ...                  ...                    ...   \n",
       "71                   2.605698             0.145345               1.684256   \n",
       "72                   2.685578            -0.471449               1.743447   \n",
       "73                   2.685578            -5.237583               1.795265   \n",
       "74                   2.805399            -2.546119               1.841701   \n",
       "75                   3.005099            -1.256459               1.886942   \n",
       "\n",
       "    Unemployment rate (%)  GDP Value (Million CAD)  \\\n",
       "0               -0.305033                -0.652889   \n",
       "1               -0.164106                -0.652889   \n",
       "2                0.047285                -0.652889   \n",
       "3               -0.164106                -0.652889   \n",
       "4               -0.234570                -0.652889   \n",
       "..                    ...                      ...   \n",
       "71              -1.432451                 2.303003   \n",
       "72              -1.150597                 0.760475   \n",
       "73               4.204638                 0.760475   \n",
       "74               3.640929                 0.760475   \n",
       "75               2.161193                 0.760475   \n",
       "\n",
       "    Inflation Value (2002 = 100)  Vacancy Rate  \n",
       "0                      -1.646058         0.005  \n",
       "1                      -1.613925         0.005  \n",
       "2                      -1.581793         0.024  \n",
       "3                      -1.509494         0.006  \n",
       "4                      -1.364897         0.009  \n",
       "..                           ...           ...  \n",
       "71                      1.607372         0.000  \n",
       "72                      1.607372         0.003  \n",
       "73                      1.655571         0.004  \n",
       "74                      1.599339         0.002  \n",
       "75                      1.639505         0.004  \n",
       "\n",
       "[76 rows x 19 columns]"
      ],
      "text/html": "<div>\n<style scoped>\n    .dataframe tbody tr th:only-of-type {\n        vertical-align: middle;\n    }\n\n    .dataframe tbody tr th {\n        vertical-align: top;\n    }\n\n    .dataframe thead th {\n        text-align: right;\n    }\n</style>\n<table border=\"1\" class=\"dataframe\">\n  <thead>\n    <tr style=\"text-align: right;\">\n      <th></th>\n      <th>Inventory</th>\n      <th>Total Available</th>\n      <th>Availability Rate</th>\n      <th>Absorption</th>\n      <th>Absorption YTD</th>\n      <th>New Supply</th>\n      <th>New Supply YTD</th>\n      <th>Under Construction</th>\n      <th>Average Net Asking Lease Rate ($/sq. ft.)</th>\n      <th>TMI ($/sq. ft.)</th>\n      <th>Gross Rental Rate PSF ($/sq. ft.)</th>\n      <th>Average Asking Sale Price ($/sq. ft.)</th>\n      <th>Average Land Costs $/Acre</th>\n      <th>Employment Rate (%)</th>\n      <th>Population (thusands)</th>\n      <th>Unemployment rate (%)</th>\n      <th>GDP Value (Million CAD)</th>\n      <th>Inflation Value (2002 = 100)</th>\n      <th>Vacancy Rate</th>\n    </tr>\n  </thead>\n  <tbody>\n    <tr>\n      <th>0</th>\n      <td>-1.897948</td>\n      <td>-0.567867</td>\n      <td>-0.534532</td>\n      <td>-0.144980</td>\n      <td>-0.066614</td>\n      <td>-0.11547</td>\n      <td>-0.11547</td>\n      <td>0.0</td>\n      <td>-0.828871</td>\n      <td>-1.285927</td>\n      <td>-0.955625</td>\n      <td>-0.788164</td>\n      <td>-0.739286</td>\n      <td>1.322860</td>\n      <td>-1.618503</td>\n      <td>-0.305033</td>\n      <td>-0.652889</td>\n      <td>-1.646058</td>\n      <td>0.005</td>\n    </tr>\n    <tr>\n      <th>1</th>\n      <td>-1.897948</td>\n      <td>-0.486351</td>\n      <td>-0.391236</td>\n      <td>-0.121966</td>\n      <td>-0.166556</td>\n      <td>-0.11547</td>\n      <td>-0.11547</td>\n      <td>0.0</td>\n      <td>-0.657400</td>\n      <td>0.254630</td>\n      <td>-0.565142</td>\n      <td>-0.810686</td>\n      <td>-0.739286</td>\n      <td>0.818211</td>\n      <td>-1.561903</td>\n      <td>-0.164106</td>\n      <td>-0.652889</td>\n      <td>-1.613925</td>\n      <td>0.005</td>\n    </tr>\n    <tr>\n      <th>2</th>\n      <td>-1.897948</td>\n      <td>0.818078</td>\n      <td>1.041725</td>\n      <td>-2.737642</td>\n      <td>-1.765826</td>\n      <td>-0.11547</td>\n      <td>-0.11547</td>\n      <td>0.0</td>\n      <td>-0.084689</td>\n      <td>0.254630</td>\n      <td>-0.039249</td>\n      <td>-0.827487</td>\n      <td>-0.739286</td>\n      <td>0.986427</td>\n      <td>-1.512676</td>\n      <td>0.047285</td>\n      <td>-0.652889</td>\n      <td>-1.581793</td>\n      <td>0.024</td>\n    </tr>\n    <tr>\n      <th>3</th>\n      <td>-1.897948</td>\n      <td>0.269626</td>\n      <td>0.396892</td>\n      <td>1.225470</td>\n      <td>-1.093406</td>\n      <td>-0.11547</td>\n      <td>-0.11547</td>\n      <td>0.0</td>\n      <td>0.062776</td>\n      <td>0.254630</td>\n      <td>0.096160</td>\n      <td>-0.792977</td>\n      <td>-0.739286</td>\n      <td>1.322860</td>\n      <td>-1.478796</td>\n      <td>-0.164106</td>\n      <td>-0.652889</td>\n      <td>-1.509494</td>\n      <td>0.006</td>\n    </tr>\n    <tr>\n      <th>4</th>\n      <td>-1.897948</td>\n      <td>0.448001</td>\n      <td>0.611837</td>\n      <td>-0.329136</td>\n      <td>-0.172174</td>\n      <td>-0.11547</td>\n      <td>-0.11547</td>\n      <td>0.0</td>\n      <td>-0.067542</td>\n      <td>0.254630</td>\n      <td>-0.023504</td>\n      <td>-0.763190</td>\n      <td>-0.739286</td>\n      <td>1.547149</td>\n      <td>-1.446111</td>\n      <td>-0.234570</td>\n      <td>-0.652889</td>\n      <td>-1.364897</td>\n      <td>0.009</td>\n    </tr>\n    <tr>\n      <th>...</th>\n      <td>...</td>\n      <td>...</td>\n      <td>...</td>\n      <td>...</td>\n      <td>...</td>\n      <td>...</td>\n      <td>...</td>\n      <td>...</td>\n      <td>...</td>\n      <td>...</td>\n      <td>...</td>\n      <td>...</td>\n      <td>...</td>\n      <td>...</td>\n      <td>...</td>\n      <td>...</td>\n      <td>...</td>\n      <td>...</td>\n      <td>...</td>\n    </tr>\n    <tr>\n      <th>71</th>\n      <td>0.402952</td>\n      <td>-1.194845</td>\n      <td>-1.251013</td>\n      <td>-0.020546</td>\n      <td>0.194076</td>\n      <td>-0.11547</td>\n      <td>-0.11547</td>\n      <td>0.0</td>\n      <td>0.618340</td>\n      <td>1.711914</td>\n      <td>0.826742</td>\n      <td>1.587831</td>\n      <td>2.605698</td>\n      <td>0.145345</td>\n      <td>1.684256</td>\n      <td>-1.432451</td>\n      <td>2.303003</td>\n      <td>1.607372</td>\n      <td>0.000</td>\n    </tr>\n    <tr>\n      <th>72</th>\n      <td>0.402952</td>\n      <td>-0.896306</td>\n      <td>-0.892772</td>\n      <td>-0.586153</td>\n      <td>-0.319498</td>\n      <td>-0.11547</td>\n      <td>-0.11547</td>\n      <td>0.0</td>\n      <td>4.476425</td>\n      <td>1.711914</td>\n      <td>4.369433</td>\n      <td>1.587831</td>\n      <td>2.685578</td>\n      <td>-0.471449</td>\n      <td>1.743447</td>\n      <td>-1.150597</td>\n      <td>0.760475</td>\n      <td>1.607372</td>\n      <td>0.003</td>\n    </tr>\n    <tr>\n      <th>73</th>\n      <td>0.402952</td>\n      <td>-0.820760</td>\n      <td>-0.821124</td>\n      <td>-0.109196</td>\n      <td>-0.412120</td>\n      <td>-0.11547</td>\n      <td>-0.11547</td>\n      <td>0.0</td>\n      <td>3.328087</td>\n      <td>1.816006</td>\n      <td>3.330716</td>\n      <td>0.492619</td>\n      <td>2.685578</td>\n      <td>-5.237583</td>\n      <td>1.795265</td>\n      <td>4.204638</td>\n      <td>0.760475</td>\n      <td>1.655571</td>\n      <td>0.004</td>\n    </tr>\n    <tr>\n      <th>74</th>\n      <td>0.402952</td>\n      <td>-0.977630</td>\n      <td>-0.964420</td>\n      <td>0.387919</td>\n      <td>-0.219792</td>\n      <td>-0.11547</td>\n      <td>-0.11547</td>\n      <td>0.0</td>\n      <td>3.994387</td>\n      <td>0.067265</td>\n      <td>3.678026</td>\n      <td>0.492619</td>\n      <td>2.805399</td>\n      <td>-2.546119</td>\n      <td>1.841701</td>\n      <td>3.640929</td>\n      <td>0.760475</td>\n      <td>1.599339</td>\n      <td>0.002</td>\n    </tr>\n    <tr>\n      <th>75</th>\n      <td>0.402952</td>\n      <td>-0.747610</td>\n      <td>-0.749476</td>\n      <td>-0.439600</td>\n      <td>-0.501804</td>\n      <td>-0.11547</td>\n      <td>-0.11547</td>\n      <td>0.0</td>\n      <td>2.595017</td>\n      <td>2.076235</td>\n      <td>2.696937</td>\n      <td>1.523715</td>\n      <td>3.005099</td>\n      <td>-1.256459</td>\n      <td>1.886942</td>\n      <td>2.161193</td>\n      <td>0.760475</td>\n      <td>1.639505</td>\n      <td>0.004</td>\n    </tr>\n  </tbody>\n</table>\n<p>76 rows × 19 columns</p>\n</div>"
     },
     "metadata": {},
     "execution_count": 154
    }
   ],
   "source": [
    "X"
   ]
  },
  {
   "cell_type": "code",
   "execution_count": 156,
   "metadata": {},
   "outputs": [],
   "source": [
    "X.to_excel('standardized_data1.xlsx')"
   ]
  }
 ]
}